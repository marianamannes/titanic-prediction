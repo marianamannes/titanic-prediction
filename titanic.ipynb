{
 "cells": [
  {
   "cell_type": "markdown",
   "id": "d7bc5251",
   "metadata": {},
   "source": [
    "#  Titanic - Machine Learning Project"
   ]
  },
  {
   "cell_type": "markdown",
   "id": "2f1864fb",
   "metadata": {},
   "source": [
    "This project is inspired by the competition [Titanic - Machine Learning from Disaster](https://www.kaggle.com/c/titanic) from Kaggle."
   ]
  },
  {
   "cell_type": "markdown",
   "id": "4b2b4708",
   "metadata": {},
   "source": [
    "> The competition is simple: use machine learning to create a model that predicts which passengers survived the Titanic shipwreck."
   ]
  },
  {
   "cell_type": "markdown",
   "id": "66030b17",
   "metadata": {},
   "source": [
    "# Project Overview"
   ]
  },
  {
   "cell_type": "markdown",
   "id": "19f8fc1f",
   "metadata": {},
   "source": [
    "1. [Exploratory Data Analysis](#1.-Exploratory-Data-Analysis)\n",
    "2. [Feature Engineering](#2.-Feature-Engineering)\n",
    "3. [Data Preprocessing](#3.-Data-Preprocessing)\n",
    "4. [Model Building](#4.-Model-Building)\n",
    "5. [Model Tuning](#5.-Model-Tuning)\n",
    "6. [Model Evaluation](#6.-Model-Evaluation)\n",
    "6. [Model Results](#7.-Model-Results)"
   ]
  },
  {
   "cell_type": "markdown",
   "id": "67dd790a",
   "metadata": {},
   "source": [
    "# 1. Exploratory Data Analysis"
   ]
  },
  {
   "cell_type": "markdown",
   "id": "c66a37af",
   "metadata": {},
   "source": [
    "In this step, an overview of the dataset will be performed, followed by a column-by-column analysis."
   ]
  },
  {
   "cell_type": "markdown",
   "id": "98884a99",
   "metadata": {},
   "source": [
    "## 1.1 Dataset overview"
   ]
  },
  {
   "cell_type": "code",
   "execution_count": 2,
   "id": "c630d074",
   "metadata": {},
   "outputs": [],
   "source": [
    "# Importing libraries\n",
    "\n",
    "import pandas as pd\n",
    "import re\n",
    "import seaborn as sns\n",
    "import matplotlib.pyplot as plt"
   ]
  },
  {
   "cell_type": "code",
   "execution_count": 3,
   "id": "844421e6",
   "metadata": {},
   "outputs": [],
   "source": [
    "# Loading the data set\n",
    "\n",
    "train = pd.read_csv('train.csv')"
   ]
  },
  {
   "cell_type": "code",
   "execution_count": 4,
   "id": "15d714fd",
   "metadata": {},
   "outputs": [
    {
     "data": {
      "text/html": [
       "<div>\n",
       "<style scoped>\n",
       "    .dataframe tbody tr th:only-of-type {\n",
       "        vertical-align: middle;\n",
       "    }\n",
       "\n",
       "    .dataframe tbody tr th {\n",
       "        vertical-align: top;\n",
       "    }\n",
       "\n",
       "    .dataframe thead th {\n",
       "        text-align: right;\n",
       "    }\n",
       "</style>\n",
       "<table border=\"1\" class=\"dataframe\">\n",
       "  <thead>\n",
       "    <tr style=\"text-align: right;\">\n",
       "      <th></th>\n",
       "      <th>PassengerId</th>\n",
       "      <th>Survived</th>\n",
       "      <th>Pclass</th>\n",
       "      <th>Name</th>\n",
       "      <th>Sex</th>\n",
       "      <th>Age</th>\n",
       "      <th>SibSp</th>\n",
       "      <th>Parch</th>\n",
       "      <th>Ticket</th>\n",
       "      <th>Fare</th>\n",
       "      <th>Cabin</th>\n",
       "      <th>Embarked</th>\n",
       "    </tr>\n",
       "  </thead>\n",
       "  <tbody>\n",
       "    <tr>\n",
       "      <th>0</th>\n",
       "      <td>1</td>\n",
       "      <td>0</td>\n",
       "      <td>3</td>\n",
       "      <td>Braund, Mr. Owen Harris</td>\n",
       "      <td>male</td>\n",
       "      <td>22.0</td>\n",
       "      <td>1</td>\n",
       "      <td>0</td>\n",
       "      <td>A/5 21171</td>\n",
       "      <td>7.2500</td>\n",
       "      <td>NaN</td>\n",
       "      <td>S</td>\n",
       "    </tr>\n",
       "    <tr>\n",
       "      <th>1</th>\n",
       "      <td>2</td>\n",
       "      <td>1</td>\n",
       "      <td>1</td>\n",
       "      <td>Cumings, Mrs. John Bradley (Florence Briggs Th...</td>\n",
       "      <td>female</td>\n",
       "      <td>38.0</td>\n",
       "      <td>1</td>\n",
       "      <td>0</td>\n",
       "      <td>PC 17599</td>\n",
       "      <td>71.2833</td>\n",
       "      <td>C85</td>\n",
       "      <td>C</td>\n",
       "    </tr>\n",
       "    <tr>\n",
       "      <th>2</th>\n",
       "      <td>3</td>\n",
       "      <td>1</td>\n",
       "      <td>3</td>\n",
       "      <td>Heikkinen, Miss. Laina</td>\n",
       "      <td>female</td>\n",
       "      <td>26.0</td>\n",
       "      <td>0</td>\n",
       "      <td>0</td>\n",
       "      <td>STON/O2. 3101282</td>\n",
       "      <td>7.9250</td>\n",
       "      <td>NaN</td>\n",
       "      <td>S</td>\n",
       "    </tr>\n",
       "    <tr>\n",
       "      <th>3</th>\n",
       "      <td>4</td>\n",
       "      <td>1</td>\n",
       "      <td>1</td>\n",
       "      <td>Futrelle, Mrs. Jacques Heath (Lily May Peel)</td>\n",
       "      <td>female</td>\n",
       "      <td>35.0</td>\n",
       "      <td>1</td>\n",
       "      <td>0</td>\n",
       "      <td>113803</td>\n",
       "      <td>53.1000</td>\n",
       "      <td>C123</td>\n",
       "      <td>S</td>\n",
       "    </tr>\n",
       "    <tr>\n",
       "      <th>4</th>\n",
       "      <td>5</td>\n",
       "      <td>0</td>\n",
       "      <td>3</td>\n",
       "      <td>Allen, Mr. William Henry</td>\n",
       "      <td>male</td>\n",
       "      <td>35.0</td>\n",
       "      <td>0</td>\n",
       "      <td>0</td>\n",
       "      <td>373450</td>\n",
       "      <td>8.0500</td>\n",
       "      <td>NaN</td>\n",
       "      <td>S</td>\n",
       "    </tr>\n",
       "  </tbody>\n",
       "</table>\n",
       "</div>"
      ],
      "text/plain": [
       "   PassengerId  Survived  Pclass  \\\n",
       "0            1         0       3   \n",
       "1            2         1       1   \n",
       "2            3         1       3   \n",
       "3            4         1       1   \n",
       "4            5         0       3   \n",
       "\n",
       "                                                Name     Sex   Age  SibSp  \\\n",
       "0                            Braund, Mr. Owen Harris    male  22.0      1   \n",
       "1  Cumings, Mrs. John Bradley (Florence Briggs Th...  female  38.0      1   \n",
       "2                             Heikkinen, Miss. Laina  female  26.0      0   \n",
       "3       Futrelle, Mrs. Jacques Heath (Lily May Peel)  female  35.0      1   \n",
       "4                           Allen, Mr. William Henry    male  35.0      0   \n",
       "\n",
       "   Parch            Ticket     Fare Cabin Embarked  \n",
       "0      0         A/5 21171   7.2500   NaN        S  \n",
       "1      0          PC 17599  71.2833   C85        C  \n",
       "2      0  STON/O2. 3101282   7.9250   NaN        S  \n",
       "3      0            113803  53.1000  C123        S  \n",
       "4      0            373450   8.0500   NaN        S  "
      ]
     },
     "execution_count": 4,
     "metadata": {},
     "output_type": "execute_result"
    }
   ],
   "source": [
    "# Printing the first rows of the training data set\n",
    "\n",
    "train.head(5)"
   ]
  },
  {
   "cell_type": "code",
   "execution_count": 5,
   "id": "a6ee60ea",
   "metadata": {},
   "outputs": [
    {
     "data": {
      "text/html": [
       "<div>\n",
       "<style scoped>\n",
       "    .dataframe tbody tr th:only-of-type {\n",
       "        vertical-align: middle;\n",
       "    }\n",
       "\n",
       "    .dataframe tbody tr th {\n",
       "        vertical-align: top;\n",
       "    }\n",
       "\n",
       "    .dataframe thead th {\n",
       "        text-align: right;\n",
       "    }\n",
       "</style>\n",
       "<table border=\"1\" class=\"dataframe\">\n",
       "  <thead>\n",
       "    <tr style=\"text-align: right;\">\n",
       "      <th></th>\n",
       "      <th>Variable</th>\n",
       "      <th>Definition</th>\n",
       "      <th>Key</th>\n",
       "    </tr>\n",
       "  </thead>\n",
       "  <tbody>\n",
       "    <tr>\n",
       "      <th>0</th>\n",
       "      <td>survival</td>\n",
       "      <td>Survival</td>\n",
       "      <td>0 = No, 1 = Yes</td>\n",
       "    </tr>\n",
       "    <tr>\n",
       "      <th>1</th>\n",
       "      <td>pclass</td>\n",
       "      <td>Ticket class</td>\n",
       "      <td>1 = 1st, 2 = 2nd, 3 = 3rd</td>\n",
       "    </tr>\n",
       "    <tr>\n",
       "      <th>2</th>\n",
       "      <td>sex</td>\n",
       "      <td>Sex</td>\n",
       "      <td>NaN</td>\n",
       "    </tr>\n",
       "    <tr>\n",
       "      <th>3</th>\n",
       "      <td>Age</td>\n",
       "      <td>Age in years</td>\n",
       "      <td>NaN</td>\n",
       "    </tr>\n",
       "    <tr>\n",
       "      <th>4</th>\n",
       "      <td>sibsp</td>\n",
       "      <td># of siblings / spouses aboard the Titanic</td>\n",
       "      <td>NaN</td>\n",
       "    </tr>\n",
       "    <tr>\n",
       "      <th>5</th>\n",
       "      <td>parch</td>\n",
       "      <td># of parents / children aboard the Titanic</td>\n",
       "      <td>NaN</td>\n",
       "    </tr>\n",
       "    <tr>\n",
       "      <th>6</th>\n",
       "      <td>ticket</td>\n",
       "      <td>Ticket number</td>\n",
       "      <td>NaN</td>\n",
       "    </tr>\n",
       "    <tr>\n",
       "      <th>7</th>\n",
       "      <td>fare</td>\n",
       "      <td>Passenger fare</td>\n",
       "      <td>NaN</td>\n",
       "    </tr>\n",
       "    <tr>\n",
       "      <th>8</th>\n",
       "      <td>cabin</td>\n",
       "      <td>Cabin number</td>\n",
       "      <td>NaN</td>\n",
       "    </tr>\n",
       "    <tr>\n",
       "      <th>9</th>\n",
       "      <td>embarked</td>\n",
       "      <td>Port of Embarkation</td>\n",
       "      <td>C = Cherbourg, Q = Queenstown, S = Southampton</td>\n",
       "    </tr>\n",
       "  </tbody>\n",
       "</table>\n",
       "</div>"
      ],
      "text/plain": [
       "   Variable                                  Definition  \\\n",
       "0  survival                                    Survival   \n",
       "1    pclass                                Ticket class   \n",
       "2       sex                                         Sex   \n",
       "3       Age                                Age in years   \n",
       "4     sibsp  # of siblings / spouses aboard the Titanic   \n",
       "5     parch  # of parents / children aboard the Titanic   \n",
       "6    ticket                               Ticket number   \n",
       "7      fare                              Passenger fare   \n",
       "8     cabin                                Cabin number   \n",
       "9  embarked                         Port of Embarkation   \n",
       "\n",
       "                                              Key  \n",
       "0                                 0 = No, 1 = Yes  \n",
       "1                       1 = 1st, 2 = 2nd, 3 = 3rd  \n",
       "2                                             NaN  \n",
       "3                                             NaN  \n",
       "4                                             NaN  \n",
       "5                                             NaN  \n",
       "6                                             NaN  \n",
       "7                                             NaN  \n",
       "8                                             NaN  \n",
       "9  C = Cherbourg, Q = Queenstown, S = Southampton  "
      ]
     },
     "execution_count": 5,
     "metadata": {},
     "output_type": "execute_result"
    }
   ],
   "source": [
    "# Printing the data dictionary\n",
    "\n",
    "dictionary = pd.read_csv('dictionary.csv', sep = ';')\n",
    "\n",
    "dictionary"
   ]
  },
  {
   "cell_type": "code",
   "execution_count": 6,
   "id": "93e42e4a",
   "metadata": {},
   "outputs": [
    {
     "name": "stdout",
     "output_type": "stream",
     "text": [
      "<class 'pandas.core.frame.DataFrame'>\n",
      "RangeIndex: 891 entries, 0 to 890\n",
      "Data columns (total 12 columns):\n",
      " #   Column       Non-Null Count  Dtype  \n",
      "---  ------       --------------  -----  \n",
      " 0   PassengerId  891 non-null    int64  \n",
      " 1   Survived     891 non-null    int64  \n",
      " 2   Pclass       891 non-null    int64  \n",
      " 3   Name         891 non-null    object \n",
      " 4   Sex          891 non-null    object \n",
      " 5   Age          714 non-null    float64\n",
      " 6   SibSp        891 non-null    int64  \n",
      " 7   Parch        891 non-null    int64  \n",
      " 8   Ticket       891 non-null    object \n",
      " 9   Fare         891 non-null    float64\n",
      " 10  Cabin        204 non-null    object \n",
      " 11  Embarked     889 non-null    object \n",
      "dtypes: float64(2), int64(5), object(5)\n",
      "memory usage: 83.7+ KB\n"
     ]
    }
   ],
   "source": [
    "# Checking null values\n",
    "\n",
    "train.info()"
   ]
  },
  {
   "cell_type": "markdown",
   "id": "67dd41f9",
   "metadata": {},
   "source": [
    "The 'Age', 'Embarked' and 'Cabin' columns contain some null values."
   ]
  },
  {
   "cell_type": "markdown",
   "id": "f040eb00",
   "metadata": {},
   "source": [
    "## 1.2 Column analysis"
   ]
  },
  {
   "cell_type": "markdown",
   "id": "05d93e9d",
   "metadata": {},
   "source": [
    "### 1.2.1 'Survived'"
   ]
  },
  {
   "cell_type": "code",
   "execution_count": 7,
   "id": "6b86fd1f",
   "metadata": {},
   "outputs": [
    {
     "data": {
      "text/html": [
       "<div>\n",
       "<style scoped>\n",
       "    .dataframe tbody tr th:only-of-type {\n",
       "        vertical-align: middle;\n",
       "    }\n",
       "\n",
       "    .dataframe tbody tr th {\n",
       "        vertical-align: top;\n",
       "    }\n",
       "\n",
       "    .dataframe thead th {\n",
       "        text-align: right;\n",
       "    }\n",
       "</style>\n",
       "<table border=\"1\" class=\"dataframe\">\n",
       "  <thead>\n",
       "    <tr style=\"text-align: right;\">\n",
       "      <th></th>\n",
       "      <th>Count</th>\n",
       "      <th>Percentage</th>\n",
       "    </tr>\n",
       "    <tr>\n",
       "      <th>Survived</th>\n",
       "      <th></th>\n",
       "      <th></th>\n",
       "    </tr>\n",
       "  </thead>\n",
       "  <tbody>\n",
       "    <tr>\n",
       "      <th>0</th>\n",
       "      <td>549</td>\n",
       "      <td>61.62</td>\n",
       "    </tr>\n",
       "    <tr>\n",
       "      <th>1</th>\n",
       "      <td>342</td>\n",
       "      <td>38.38</td>\n",
       "    </tr>\n",
       "  </tbody>\n",
       "</table>\n",
       "</div>"
      ],
      "text/plain": [
       "          Count  Percentage\n",
       "Survived                   \n",
       "0           549       61.62\n",
       "1           342       38.38"
      ]
     },
     "execution_count": 7,
     "metadata": {},
     "output_type": "execute_result"
    }
   ],
   "source": [
    "# Checking how many people survived in the training data set\n",
    "\n",
    "survived = pd.DataFrame(train.groupby('Survived').count()['PassengerId'])\n",
    "survived.columns = ['Count']\n",
    "survived['Percentage'] = survived.apply(lambda x: round((x['Count'] / train.shape[0])*100,2), axis = 1)\n",
    "\n",
    "survived"
   ]
  },
  {
   "cell_type": "markdown",
   "id": "2647c2a4",
   "metadata": {},
   "source": [
    "61.62% of training set is Class 0 (Not survived)\n",
    "\n",
    "38.38% of training set is Class 1 (Survived)"
   ]
  },
  {
   "cell_type": "code",
   "execution_count": 8,
   "id": "e12c6375",
   "metadata": {},
   "outputs": [
    {
     "data": {
      "image/png": "[encoded data removed]",
      "text/plain": [
       "<Figure size 1600x400 with 1 Axes>"
      ]
     },
     "metadata": {},
     "output_type": "display_data"
    }
   ],
   "source": [
    "# Viewing training set survival distribution \n",
    "\n",
    "sns.set_style('darkgrid')\n",
    "\n",
    "plt.figure(figsize=(16,4))\n",
    "\n",
    "ax = sns.barplot(x = survived['Count'],\n",
    "                 y = survived.index,\n",
    "                 color = 'royalblue',\n",
    "                 orient = 'h')\n",
    "\n",
    "ax.set_title('Training set survival distribution', \n",
    "             fontweight = 'bold', \n",
    "             fontsize = 20, \n",
    "             y = 1.1)\n",
    "\n",
    "ax.set_xlabel('Passenger count')\n",
    "\n",
    "ax = ax"
   ]
  },
  {
   "cell_type": "markdown",
   "id": "2da5a8bb",
   "metadata": {},
   "source": [
    "### 1.2.2 'Pclass'"
   ]
  },
  {
   "cell_type": "code",
   "execution_count": 9,
   "id": "6b41fa69",
   "metadata": {},
   "outputs": [
    {
     "data": {
      "text/html": [
       "<div>\n",
       "<style scoped>\n",
       "    .dataframe tbody tr th:only-of-type {\n",
       "        vertical-align: middle;\n",
       "    }\n",
       "\n",
       "    .dataframe tbody tr th {\n",
       "        vertical-align: top;\n",
       "    }\n",
       "\n",
       "    .dataframe thead th {\n",
       "        text-align: right;\n",
       "    }\n",
       "</style>\n",
       "<table border=\"1\" class=\"dataframe\">\n",
       "  <thead>\n",
       "    <tr style=\"text-align: right;\">\n",
       "      <th></th>\n",
       "      <th>Count</th>\n",
       "      <th>Percentage</th>\n",
       "    </tr>\n",
       "    <tr>\n",
       "      <th>Pclass</th>\n",
       "      <th></th>\n",
       "      <th></th>\n",
       "    </tr>\n",
       "  </thead>\n",
       "  <tbody>\n",
       "    <tr>\n",
       "      <th>1</th>\n",
       "      <td>216</td>\n",
       "      <td>24.24</td>\n",
       "    </tr>\n",
       "    <tr>\n",
       "      <th>2</th>\n",
       "      <td>184</td>\n",
       "      <td>20.65</td>\n",
       "    </tr>\n",
       "    <tr>\n",
       "      <th>3</th>\n",
       "      <td>491</td>\n",
       "      <td>55.11</td>\n",
       "    </tr>\n",
       "  </tbody>\n",
       "</table>\n",
       "</div>"
      ],
      "text/plain": [
       "        Count  Percentage\n",
       "Pclass                   \n",
       "1         216       24.24\n",
       "2         184       20.65\n",
       "3         491       55.11"
      ]
     },
     "execution_count": 9,
     "metadata": {},
     "output_type": "execute_result"
    }
   ],
   "source": [
    "# Checking passenger count by ticket class in the training data set\n",
    "\n",
    "pclass = pd.DataFrame(train.groupby(['Pclass']).count()['PassengerId'])\n",
    "pclass.columns = ['Count']\n",
    "pclass['Percentage'] = pclass.apply(lambda x: round((x['Count'] / train.shape[0])*100,2), axis = 1)\n",
    "\n",
    "pclass"
   ]
  },
  {
   "cell_type": "markdown",
   "id": "1d1fddb0",
   "metadata": {},
   "source": [
    "24.24% of training set is upper class\n",
    "\n",
    "20.65% of training set is middle class\n",
    "\n",
    "55.11% of training set is lower class"
   ]
  },
  {
   "cell_type": "code",
   "execution_count": 10,
   "id": "df4e354f",
   "metadata": {},
   "outputs": [
    {
     "data": {
      "image/png": "[encoded data removed]",
      "text/plain": [
       "<Figure size 1600x400 with 1 Axes>"
      ]
     },
     "metadata": {},
     "output_type": "display_data"
    }
   ],
   "source": [
    "# Viewing training set ticket class distribution \n",
    "\n",
    "sns.set_style('darkgrid')\n",
    "\n",
    "plt.figure(figsize=(16,4))\n",
    "\n",
    "ax = sns.barplot(x = pclass['Count'],\n",
    "                 y = pclass.index,\n",
    "                 color = 'royalblue',\n",
    "                 orient = 'h')\n",
    "\n",
    "ax.set_title('Training set ticket class distribution', \n",
    "             fontweight = 'bold', \n",
    "             fontsize = 20, \n",
    "             y = 1.1)\n",
    "\n",
    "ax.set_xlabel('Passenger count')\n",
    "\n",
    "ax = ax"
   ]
  },
  {
   "cell_type": "code",
   "execution_count": 11,
   "id": "3d672c9f",
   "metadata": {},
   "outputs": [
    {
     "data": {
      "text/html": [
       "<div>\n",
       "<style scoped>\n",
       "    .dataframe tbody tr th:only-of-type {\n",
       "        vertical-align: middle;\n",
       "    }\n",
       "\n",
       "    .dataframe tbody tr th {\n",
       "        vertical-align: top;\n",
       "    }\n",
       "\n",
       "    .dataframe thead th {\n",
       "        text-align: right;\n",
       "    }\n",
       "</style>\n",
       "<table border=\"1\" class=\"dataframe\">\n",
       "  <thead>\n",
       "    <tr style=\"text-align: right;\">\n",
       "      <th></th>\n",
       "      <th>Survived</th>\n",
       "    </tr>\n",
       "    <tr>\n",
       "      <th>Pclass</th>\n",
       "      <th></th>\n",
       "    </tr>\n",
       "  </thead>\n",
       "  <tbody>\n",
       "    <tr>\n",
       "      <th>1</th>\n",
       "      <td>0.629630</td>\n",
       "    </tr>\n",
       "    <tr>\n",
       "      <th>2</th>\n",
       "      <td>0.472826</td>\n",
       "    </tr>\n",
       "    <tr>\n",
       "      <th>3</th>\n",
       "      <td>0.242363</td>\n",
       "    </tr>\n",
       "  </tbody>\n",
       "</table>\n",
       "</div>"
      ],
      "text/plain": [
       "        Survived\n",
       "Pclass          \n",
       "1       0.629630\n",
       "2       0.472826\n",
       "3       0.242363"
      ]
     },
     "execution_count": 11,
     "metadata": {},
     "output_type": "execute_result"
    }
   ],
   "source": [
    "# Checking survival grouped by ticket class\n",
    "\n",
    "pclass = pd.DataFrame(train[['Pclass', 'Survived']].groupby(['Pclass']).mean())\n",
    "pclass"
   ]
  },
  {
   "cell_type": "markdown",
   "id": "b118e0b5",
   "metadata": {},
   "source": [
    "62.92% of upper class passengers survived\n",
    "\n",
    "47.28% of middle class passengers survived\n",
    "\n",
    "24.23% of middle class passengers survived"
   ]
  },
  {
   "cell_type": "markdown",
   "id": "64bc8ac5",
   "metadata": {},
   "source": [
    "Thus, there's probably a correlation between ticket class and survival. For the model building, ticket class 1 and 2 will be included."
   ]
  },
  {
   "cell_type": "markdown",
   "id": "3629eb1b",
   "metadata": {},
   "source": [
    "### 1.2.3 'Name'"
   ]
  },
  {
   "cell_type": "code",
   "execution_count": 12,
   "id": "adee6f8e",
   "metadata": {},
   "outputs": [
    {
     "data": {
      "text/plain": [
       "0                              Braund, Mr. Owen Harris\n",
       "1    Cumings, Mrs. John Bradley (Florence Briggs Th...\n",
       "2                               Heikkinen, Miss. Laina\n",
       "3         Futrelle, Mrs. Jacques Heath (Lily May Peel)\n",
       "4                             Allen, Mr. William Henry\n",
       "Name: Name, dtype: object"
      ]
     },
     "execution_count": 12,
     "metadata": {},
     "output_type": "execute_result"
    }
   ],
   "source": [
    "# Viewing the 5 first rows\n",
    "\n",
    "train.Name.head(5)"
   ]
  },
  {
   "cell_type": "markdown",
   "id": "10c79c25",
   "metadata": {},
   "source": [
    "Although the full name does not provide much information for the model, titles can be important for feature engineering later."
   ]
  },
  {
   "cell_type": "markdown",
   "id": "1c971e3a",
   "metadata": {},
   "source": [
    "### 1.2.4 Sex"
   ]
  },
  {
   "cell_type": "code",
   "execution_count": 13,
   "id": "3497b62b",
   "metadata": {},
   "outputs": [
    {
     "data": {
      "text/html": [
       "<div>\n",
       "<style scoped>\n",
       "    .dataframe tbody tr th:only-of-type {\n",
       "        vertical-align: middle;\n",
       "    }\n",
       "\n",
       "    .dataframe tbody tr th {\n",
       "        vertical-align: top;\n",
       "    }\n",
       "\n",
       "    .dataframe thead th {\n",
       "        text-align: right;\n",
       "    }\n",
       "</style>\n",
       "<table border=\"1\" class=\"dataframe\">\n",
       "  <thead>\n",
       "    <tr style=\"text-align: right;\">\n",
       "      <th></th>\n",
       "      <th>Count</th>\n",
       "      <th>Percentage</th>\n",
       "    </tr>\n",
       "    <tr>\n",
       "      <th>Sex</th>\n",
       "      <th></th>\n",
       "      <th></th>\n",
       "    </tr>\n",
       "  </thead>\n",
       "  <tbody>\n",
       "    <tr>\n",
       "      <th>female</th>\n",
       "      <td>314</td>\n",
       "      <td>35.24</td>\n",
       "    </tr>\n",
       "    <tr>\n",
       "      <th>male</th>\n",
       "      <td>577</td>\n",
       "      <td>64.76</td>\n",
       "    </tr>\n",
       "  </tbody>\n",
       "</table>\n",
       "</div>"
      ],
      "text/plain": [
       "        Count  Percentage\n",
       "Sex                      \n",
       "female    314       35.24\n",
       "male      577       64.76"
      ]
     },
     "execution_count": 13,
     "metadata": {},
     "output_type": "execute_result"
    }
   ],
   "source": [
    "# Checking passenger count by sex in the training data set\n",
    "\n",
    "gender = pd.DataFrame(train.groupby(['Sex']).count()['PassengerId'])\n",
    "gender.columns = ['Count']\n",
    "gender['Percentage'] = gender.apply(lambda x: round((x['Count'] / train.shape[0])*100,2), axis = 1)\n",
    "\n",
    "gender"
   ]
  },
  {
   "cell_type": "markdown",
   "id": "43d8030b",
   "metadata": {},
   "source": [
    "35.24% of training set is female\n",
    "\n",
    "64.76% of training set is male"
   ]
  },
  {
   "cell_type": "code",
   "execution_count": 14,
   "id": "d0ef80cd",
   "metadata": {},
   "outputs": [
    {
     "data": {
      "image/png": "[encoded data removed]",
      "text/plain": [
       "<Figure size 1600x400 with 1 Axes>"
      ]
     },
     "metadata": {},
     "output_type": "display_data"
    }
   ],
   "source": [
    "# Viewing training set gender distribution \n",
    "\n",
    "sns.set_style('darkgrid')\n",
    "\n",
    "plt.figure(figsize=(16,4))\n",
    "\n",
    "ax = sns.barplot(x = gender['Count'],\n",
    "                 y = gender.index,\n",
    "                 color = 'royalblue',\n",
    "                 orient = 'h')\n",
    "\n",
    "ax.set_title('Training set gender distribution', \n",
    "             fontweight = 'bold', \n",
    "             fontsize = 20, \n",
    "             y = 1.1)\n",
    "\n",
    "ax.set_xlabel('Passenger count')\n",
    "\n",
    "ax = ax"
   ]
  },
  {
   "cell_type": "code",
   "execution_count": 15,
   "id": "08bc2763",
   "metadata": {},
   "outputs": [
    {
     "data": {
      "text/html": [
       "<div>\n",
       "<style scoped>\n",
       "    .dataframe tbody tr th:only-of-type {\n",
       "        vertical-align: middle;\n",
       "    }\n",
       "\n",
       "    .dataframe tbody tr th {\n",
       "        vertical-align: top;\n",
       "    }\n",
       "\n",
       "    .dataframe thead th {\n",
       "        text-align: right;\n",
       "    }\n",
       "</style>\n",
       "<table border=\"1\" class=\"dataframe\">\n",
       "  <thead>\n",
       "    <tr style=\"text-align: right;\">\n",
       "      <th></th>\n",
       "      <th>Survived</th>\n",
       "    </tr>\n",
       "    <tr>\n",
       "      <th>Sex</th>\n",
       "      <th></th>\n",
       "    </tr>\n",
       "  </thead>\n",
       "  <tbody>\n",
       "    <tr>\n",
       "      <th>female</th>\n",
       "      <td>0.742038</td>\n",
       "    </tr>\n",
       "    <tr>\n",
       "      <th>male</th>\n",
       "      <td>0.188908</td>\n",
       "    </tr>\n",
       "  </tbody>\n",
       "</table>\n",
       "</div>"
      ],
      "text/plain": [
       "        Survived\n",
       "Sex             \n",
       "female  0.742038\n",
       "male    0.188908"
      ]
     },
     "execution_count": 15,
     "metadata": {},
     "output_type": "execute_result"
    }
   ],
   "source": [
    "# Checking survival grouped by ticket class\n",
    "\n",
    "gender = pd.DataFrame(train[['Sex', 'Survived']].groupby(['Sex']).mean())\n",
    "gender"
   ]
  },
  {
   "cell_type": "markdown",
   "id": "45106130",
   "metadata": {},
   "source": [
    "74.20% of female passengers survived\n",
    "\n",
    "18.89% of male passengers survived"
   ]
  },
  {
   "cell_type": "markdown",
   "id": "6a93a23e",
   "metadata": {},
   "source": [
    "A gender dummy will be included in model building."
   ]
  },
  {
   "cell_type": "markdown",
   "id": "7111ed78",
   "metadata": {},
   "source": [
    "### 1.2.5 Age"
   ]
  },
  {
   "cell_type": "code",
   "execution_count": 16,
   "id": "744d77ad",
   "metadata": {},
   "outputs": [
    {
     "data": {
      "text/plain": [
       "count    714.000000\n",
       "mean      29.699118\n",
       "std       14.526497\n",
       "min        0.420000\n",
       "25%       20.125000\n",
       "50%       28.000000\n",
       "75%       38.000000\n",
       "max       80.000000\n",
       "Name: Age, dtype: float64"
      ]
     },
     "execution_count": 16,
     "metadata": {},
     "output_type": "execute_result"
    }
   ],
   "source": [
    "# Checking age distribution in the training data set\n",
    "\n",
    "train.Age.describe()"
   ]
  },
  {
   "cell_type": "code",
   "execution_count": 17,
   "id": "63859353",
   "metadata": {},
   "outputs": [],
   "source": [
    "# Since there are a few missing values, null values will be replaced with the median of the column\n",
    "\n",
    "train.Age.fillna(train.Age.median(), inplace = True)"
   ]
  },
  {
   "cell_type": "code",
   "execution_count": 18,
   "id": "4fd120a2",
   "metadata": {},
   "outputs": [
    {
     "data": {
      "text/plain": [
       "count    891.000000\n",
       "mean      29.361582\n",
       "std       13.019697\n",
       "min        0.420000\n",
       "25%       22.000000\n",
       "50%       28.000000\n",
       "75%       35.000000\n",
       "max       80.000000\n",
       "Name: Age, dtype: float64"
      ]
     },
     "execution_count": 18,
     "metadata": {},
     "output_type": "execute_result"
    }
   ],
   "source": [
    "# Checking age distribution in the training data set after removing null values\n",
    "\n",
    "train.Age.describe()"
   ]
  },
  {
   "cell_type": "code",
   "execution_count": 19,
   "id": "e923076c",
   "metadata": {},
   "outputs": [
    {
     "data": {
      "image/png": "[encoded data removed]",
      "text/plain": [
       "<Figure size 1600x200 with 1 Axes>"
      ]
     },
     "metadata": {},
     "output_type": "display_data"
    }
   ],
   "source": [
    "# Viewing training set age distribution\n",
    "\n",
    "sns.set_style('darkgrid')\n",
    "\n",
    "plt.figure(figsize=(16,2))\n",
    "\n",
    "ax = sns.histplot(x = train['Age'],\n",
    "                 color = 'royalblue',\n",
    "                 bins = 20)\n",
    "\n",
    "ax.set_title('Training set age distribution', \n",
    "             fontweight = 'bold', \n",
    "             fontsize = 20, \n",
    "             y = 1.1)\n",
    "\n",
    "ax.set_xlabel('Passenger count', \n",
    "              fontweight = 'bold')\n",
    "\n",
    "ax = ax\n"
   ]
  },
  {
   "cell_type": "code",
   "execution_count": 20,
   "id": "87a99f41",
   "metadata": {},
   "outputs": [
    {
     "data": {
      "text/html": [
       "<div>\n",
       "<style scoped>\n",
       "    .dataframe tbody tr th:only-of-type {\n",
       "        vertical-align: middle;\n",
       "    }\n",
       "\n",
       "    .dataframe tbody tr th {\n",
       "        vertical-align: top;\n",
       "    }\n",
       "\n",
       "    .dataframe thead th {\n",
       "        text-align: right;\n",
       "    }\n",
       "</style>\n",
       "<table border=\"1\" class=\"dataframe\">\n",
       "  <thead>\n",
       "    <tr style=\"text-align: right;\">\n",
       "      <th></th>\n",
       "      <th>Age</th>\n",
       "      <th>Survived</th>\n",
       "    </tr>\n",
       "  </thead>\n",
       "  <tbody>\n",
       "    <tr>\n",
       "      <th>Age</th>\n",
       "      <td>1.00000</td>\n",
       "      <td>-0.06491</td>\n",
       "    </tr>\n",
       "    <tr>\n",
       "      <th>Survived</th>\n",
       "      <td>-0.06491</td>\n",
       "      <td>1.00000</td>\n",
       "    </tr>\n",
       "  </tbody>\n",
       "</table>\n",
       "</div>"
      ],
      "text/plain": [
       "              Age  Survived\n",
       "Age       1.00000  -0.06491\n",
       "Survived -0.06491   1.00000"
      ]
     },
     "execution_count": 20,
     "metadata": {},
     "output_type": "execute_result"
    }
   ],
   "source": [
    "# Viewing correlation between age and survival\n",
    "\n",
    "train[['Age', 'Survived']].corr()"
   ]
  },
  {
   "cell_type": "markdown",
   "id": "44c172f9",
   "metadata": {},
   "source": [
    "There's a weak correlation between variables. Maybe it would make more sense to work with age bands."
   ]
  },
  {
   "cell_type": "markdown",
   "id": "27f1bcd0",
   "metadata": {},
   "source": [
    "### 1.2.6 Sibilings and Parents"
   ]
  },
  {
   "cell_type": "code",
   "execution_count": 21,
   "id": "750197d8",
   "metadata": {},
   "outputs": [
    {
     "data": {
      "text/plain": [
       "count    891.000000\n",
       "mean       0.523008\n",
       "std        1.102743\n",
       "min        0.000000\n",
       "25%        0.000000\n",
       "50%        0.000000\n",
       "75%        1.000000\n",
       "max        8.000000\n",
       "Name: SibSp, dtype: float64"
      ]
     },
     "execution_count": 21,
     "metadata": {},
     "output_type": "execute_result"
    }
   ],
   "source": [
    "# Checking number of sibilings distribution in the training data set\n",
    "\n",
    "train.SibSp.describe()"
   ]
  },
  {
   "cell_type": "code",
   "execution_count": 22,
   "id": "481d1df7",
   "metadata": {},
   "outputs": [
    {
     "data": {
      "text/plain": [
       "count    891.000000\n",
       "mean       0.381594\n",
       "std        0.806057\n",
       "min        0.000000\n",
       "25%        0.000000\n",
       "50%        0.000000\n",
       "75%        0.000000\n",
       "max        6.000000\n",
       "Name: Parch, dtype: float64"
      ]
     },
     "execution_count": 22,
     "metadata": {},
     "output_type": "execute_result"
    }
   ],
   "source": [
    "# Checking number of parents distribution in the training data set\n",
    "\n",
    "train.Parch.describe()"
   ]
  },
  {
   "cell_type": "code",
   "execution_count": 23,
   "id": "2e8eddaa",
   "metadata": {},
   "outputs": [
    {
     "data": {
      "image/png": "[encoded data removed]",
      "text/plain": [
       "<Figure size 1600x200 with 1 Axes>"
      ]
     },
     "metadata": {},
     "output_type": "display_data"
    }
   ],
   "source": [
    "# Viewing training set number of sibilings distribution\n",
    "\n",
    "sns.set_style('darkgrid')\n",
    "\n",
    "plt.figure(figsize=(16,2))\n",
    "\n",
    "ax = sns.histplot(x = train['SibSp'],\n",
    "                 color = 'royalblue',\n",
    "                 bins = 20)\n",
    "\n",
    "ax.set_title('Training set number of sibilings distribution', \n",
    "             fontweight = 'bold', \n",
    "             fontsize = 20, \n",
    "             y = 1.1)\n",
    "\n",
    "ax.set_xlabel('Passenger count', \n",
    "              fontweight = 'bold')\n",
    "\n",
    "ax = ax\n"
   ]
  },
  {
   "cell_type": "code",
   "execution_count": 24,
   "id": "c1574f6c",
   "metadata": {},
   "outputs": [
    {
     "data": {
      "image/png": "[encoded data removed]",
      "text/plain": [
       "<Figure size 1600x200 with 1 Axes>"
      ]
     },
     "metadata": {},
     "output_type": "display_data"
    }
   ],
   "source": [
    "# Viewing training set number of parents distribution\n",
    "\n",
    "sns.set_style('darkgrid')\n",
    "\n",
    "plt.figure(figsize=(16,2))\n",
    "\n",
    "ax = sns.histplot(x = train['Parch'],\n",
    "                 color = 'royalblue',\n",
    "                 bins = 20)\n",
    "\n",
    "ax.set_title('Training set number of parents distribution', \n",
    "             fontweight = 'bold', \n",
    "             fontsize = 20, \n",
    "             y = 1.1)\n",
    "\n",
    "ax.set_xlabel('Passenger count', \n",
    "              fontweight = 'bold')\n",
    "\n",
    "ax = ax\n"
   ]
  },
  {
   "cell_type": "code",
   "execution_count": 25,
   "id": "543795e4",
   "metadata": {},
   "outputs": [
    {
     "data": {
      "text/html": [
       "<div>\n",
       "<style scoped>\n",
       "    .dataframe tbody tr th:only-of-type {\n",
       "        vertical-align: middle;\n",
       "    }\n",
       "\n",
       "    .dataframe tbody tr th {\n",
       "        vertical-align: top;\n",
       "    }\n",
       "\n",
       "    .dataframe thead th {\n",
       "        text-align: right;\n",
       "    }\n",
       "</style>\n",
       "<table border=\"1\" class=\"dataframe\">\n",
       "  <thead>\n",
       "    <tr style=\"text-align: right;\">\n",
       "      <th></th>\n",
       "      <th>SibSp</th>\n",
       "      <th>Survived</th>\n",
       "    </tr>\n",
       "  </thead>\n",
       "  <tbody>\n",
       "    <tr>\n",
       "      <th>SibSp</th>\n",
       "      <td>1.000000</td>\n",
       "      <td>-0.035322</td>\n",
       "    </tr>\n",
       "    <tr>\n",
       "      <th>Survived</th>\n",
       "      <td>-0.035322</td>\n",
       "      <td>1.000000</td>\n",
       "    </tr>\n",
       "  </tbody>\n",
       "</table>\n",
       "</div>"
      ],
      "text/plain": [
       "             SibSp  Survived\n",
       "SibSp     1.000000 -0.035322\n",
       "Survived -0.035322  1.000000"
      ]
     },
     "execution_count": 25,
     "metadata": {},
     "output_type": "execute_result"
    }
   ],
   "source": [
    "# Viewing correlation between number of sibilings and survival\n",
    "\n",
    "train[['SibSp', 'Survived']].corr()"
   ]
  },
  {
   "cell_type": "code",
   "execution_count": 26,
   "id": "abd0ec73",
   "metadata": {},
   "outputs": [
    {
     "data": {
      "text/html": [
       "<div>\n",
       "<style scoped>\n",
       "    .dataframe tbody tr th:only-of-type {\n",
       "        vertical-align: middle;\n",
       "    }\n",
       "\n",
       "    .dataframe tbody tr th {\n",
       "        vertical-align: top;\n",
       "    }\n",
       "\n",
       "    .dataframe thead th {\n",
       "        text-align: right;\n",
       "    }\n",
       "</style>\n",
       "<table border=\"1\" class=\"dataframe\">\n",
       "  <thead>\n",
       "    <tr style=\"text-align: right;\">\n",
       "      <th></th>\n",
       "      <th>Parch</th>\n",
       "      <th>Survived</th>\n",
       "    </tr>\n",
       "  </thead>\n",
       "  <tbody>\n",
       "    <tr>\n",
       "      <th>Parch</th>\n",
       "      <td>1.000000</td>\n",
       "      <td>0.081629</td>\n",
       "    </tr>\n",
       "    <tr>\n",
       "      <th>Survived</th>\n",
       "      <td>0.081629</td>\n",
       "      <td>1.000000</td>\n",
       "    </tr>\n",
       "  </tbody>\n",
       "</table>\n",
       "</div>"
      ],
      "text/plain": [
       "             Parch  Survived\n",
       "Parch     1.000000  0.081629\n",
       "Survived  0.081629  1.000000"
      ]
     },
     "execution_count": 26,
     "metadata": {},
     "output_type": "execute_result"
    }
   ],
   "source": [
    "# Viewing correlation between number of parents and survival\n",
    "\n",
    "train[['Parch', 'Survived']].corr()"
   ]
  },
  {
   "cell_type": "markdown",
   "id": "552d7ac8",
   "metadata": {},
   "source": [
    "There's a weak correlation between variables. By adding the number of siblings and parents, it is possible to estimate the family size of each passenger present on the ship. Maybe this would work better."
   ]
  },
  {
   "cell_type": "markdown",
   "id": "97ba22a0",
   "metadata": {},
   "source": [
    "### 1.2.7 Ticket and Cabin"
   ]
  },
  {
   "cell_type": "code",
   "execution_count": 27,
   "id": "b498f645",
   "metadata": {},
   "outputs": [
    {
     "data": {
      "text/plain": [
       "0           A/5 21171\n",
       "1            PC 17599\n",
       "2    STON/O2. 3101282\n",
       "3              113803\n",
       "4              373450\n",
       "5              330877\n",
       "6               17463\n",
       "7              349909\n",
       "8              347742\n",
       "9              237736\n",
       "Name: Ticket, dtype: object"
      ]
     },
     "execution_count": 27,
     "metadata": {},
     "output_type": "execute_result"
    }
   ],
   "source": [
    "# Viewing the 10 first rows of 'Ticket' column\n",
    "\n",
    "train.Ticket.head(10)"
   ]
  },
  {
   "cell_type": "code",
   "execution_count": 28,
   "id": "4f562bad",
   "metadata": {},
   "outputs": [
    {
     "data": {
      "text/plain": [
       "210"
      ]
     },
     "execution_count": 28,
     "metadata": {},
     "output_type": "execute_result"
    }
   ],
   "source": [
    "# Checking duplicates\n",
    "\n",
    "train.Ticket.duplicated().sum()"
   ]
  },
  {
   "cell_type": "code",
   "execution_count": 29,
   "id": "d179447a",
   "metadata": {},
   "outputs": [
    {
     "data": {
      "text/plain": [
       "0     NaN\n",
       "1     C85\n",
       "2     NaN\n",
       "3    C123\n",
       "4     NaN\n",
       "5     NaN\n",
       "6     E46\n",
       "7     NaN\n",
       "8     NaN\n",
       "9     NaN\n",
       "Name: Cabin, dtype: object"
      ]
     },
     "execution_count": 29,
     "metadata": {},
     "output_type": "execute_result"
    }
   ],
   "source": [
    "# Viewing the 10 first rows of 'Cabin' column\n",
    "\n",
    "train.Cabin.head(10)"
   ]
  },
  {
   "cell_type": "code",
   "execution_count": 30,
   "id": "2c74e332",
   "metadata": {},
   "outputs": [
    {
     "data": {
      "text/plain": [
       "743"
      ]
     },
     "execution_count": 30,
     "metadata": {},
     "output_type": "execute_result"
    }
   ],
   "source": [
    "# Checking duplicates\n",
    "\n",
    "train.Cabin.duplicated().sum()"
   ]
  },
  {
   "cell_type": "markdown",
   "id": "c0abc96d",
   "metadata": {},
   "source": [
    "Both columns have alphanumeric data. The 'Cabin' column has more duplicate items, which could mean they shared a cabin. This can be an item to be analyzed in feature engineering"
   ]
  },
  {
   "cell_type": "markdown",
   "id": "dbe18c8c",
   "metadata": {},
   "source": [
    "### 1.2.8 Fare"
   ]
  },
  {
   "cell_type": "code",
   "execution_count": 31,
   "id": "9145c49e",
   "metadata": {},
   "outputs": [
    {
     "data": {
      "text/plain": [
       "count    891.000000\n",
       "mean      32.204208\n",
       "std       49.693429\n",
       "min        0.000000\n",
       "25%        7.910400\n",
       "50%       14.454200\n",
       "75%       31.000000\n",
       "max      512.329200\n",
       "Name: Fare, dtype: float64"
      ]
     },
     "execution_count": 31,
     "metadata": {},
     "output_type": "execute_result"
    }
   ],
   "source": [
    "# Checking fare distribution in the training data set\n",
    "\n",
    "train.Fare.describe()"
   ]
  },
  {
   "cell_type": "code",
   "execution_count": 32,
   "id": "7dff490b",
   "metadata": {},
   "outputs": [
    {
     "data": {
      "text/plain": [
       "count    891.000000\n",
       "mean      32.204208\n",
       "std       49.693429\n",
       "min        0.000000\n",
       "25%        7.910400\n",
       "50%       14.454200\n",
       "75%       31.000000\n",
       "max      512.329200\n",
       "Name: Fare, dtype: float64"
      ]
     },
     "execution_count": 32,
     "metadata": {},
     "output_type": "execute_result"
    }
   ],
   "source": [
    "# Checking fare distribution in the training data set after removing null values\n",
    "\n",
    "train.Fare.describe()"
   ]
  },
  {
   "cell_type": "code",
   "execution_count": 33,
   "id": "56c8127a",
   "metadata": {},
   "outputs": [
    {
     "data": {
      "image/png": "[encoded data removed]",
      "text/plain": [
       "<Figure size 1600x200 with 1 Axes>"
      ]
     },
     "metadata": {},
     "output_type": "display_data"
    }
   ],
   "source": [
    "# Viewing training set fare distribution\n",
    "\n",
    "sns.set_style('darkgrid')\n",
    "\n",
    "plt.figure(figsize=(16,2))\n",
    "\n",
    "ax = sns.histplot(x = train['Fare'],\n",
    "                 color = 'royalblue',\n",
    "                 bins = 20)\n",
    "\n",
    "ax.set_title('Training set fare distribution', \n",
    "             fontweight = 'bold', \n",
    "             fontsize = 10, \n",
    "             y = 1.1)\n",
    "\n",
    "ax.set_xlabel('Passenger count', \n",
    "              fontweight = 'bold')\n",
    "\n",
    "ax = ax\n"
   ]
  },
  {
   "cell_type": "code",
   "execution_count": 34,
   "id": "37f6173c",
   "metadata": {},
   "outputs": [
    {
     "data": {
      "text/html": [
       "<div>\n",
       "<style scoped>\n",
       "    .dataframe tbody tr th:only-of-type {\n",
       "        vertical-align: middle;\n",
       "    }\n",
       "\n",
       "    .dataframe tbody tr th {\n",
       "        vertical-align: top;\n",
       "    }\n",
       "\n",
       "    .dataframe thead th {\n",
       "        text-align: right;\n",
       "    }\n",
       "</style>\n",
       "<table border=\"1\" class=\"dataframe\">\n",
       "  <thead>\n",
       "    <tr style=\"text-align: right;\">\n",
       "      <th></th>\n",
       "      <th>Fare</th>\n",
       "      <th>Survived</th>\n",
       "    </tr>\n",
       "  </thead>\n",
       "  <tbody>\n",
       "    <tr>\n",
       "      <th>Fare</th>\n",
       "      <td>1.000000</td>\n",
       "      <td>0.257307</td>\n",
       "    </tr>\n",
       "    <tr>\n",
       "      <th>Survived</th>\n",
       "      <td>0.257307</td>\n",
       "      <td>1.000000</td>\n",
       "    </tr>\n",
       "  </tbody>\n",
       "</table>\n",
       "</div>"
      ],
      "text/plain": [
       "              Fare  Survived\n",
       "Fare      1.000000  0.257307\n",
       "Survived  0.257307  1.000000"
      ]
     },
     "execution_count": 34,
     "metadata": {},
     "output_type": "execute_result"
    }
   ],
   "source": [
    "# Viewing correlation between fare and survival\n",
    "\n",
    "train[['Fare', 'Survived']].corr()"
   ]
  },
  {
   "cell_type": "markdown",
   "id": "becb5c33",
   "metadata": {},
   "source": [
    "Some positive correlation was detected. This variable will be used in model building."
   ]
  },
  {
   "cell_type": "markdown",
   "id": "b0f7fc0a",
   "metadata": {},
   "source": [
    "### 1.2.9 Embarked"
   ]
  },
  {
   "cell_type": "code",
   "execution_count": 35,
   "id": "650e44b9",
   "metadata": {},
   "outputs": [
    {
     "data": {
      "text/html": [
       "<div>\n",
       "<style scoped>\n",
       "    .dataframe tbody tr th:only-of-type {\n",
       "        vertical-align: middle;\n",
       "    }\n",
       "\n",
       "    .dataframe tbody tr th {\n",
       "        vertical-align: top;\n",
       "    }\n",
       "\n",
       "    .dataframe thead th {\n",
       "        text-align: right;\n",
       "    }\n",
       "</style>\n",
       "<table border=\"1\" class=\"dataframe\">\n",
       "  <thead>\n",
       "    <tr style=\"text-align: right;\">\n",
       "      <th></th>\n",
       "      <th>Count</th>\n",
       "      <th>Percentage</th>\n",
       "    </tr>\n",
       "    <tr>\n",
       "      <th>Embarked</th>\n",
       "      <th></th>\n",
       "      <th></th>\n",
       "    </tr>\n",
       "  </thead>\n",
       "  <tbody>\n",
       "    <tr>\n",
       "      <th>C</th>\n",
       "      <td>168</td>\n",
       "      <td>18.86</td>\n",
       "    </tr>\n",
       "    <tr>\n",
       "      <th>Q</th>\n",
       "      <td>77</td>\n",
       "      <td>8.64</td>\n",
       "    </tr>\n",
       "    <tr>\n",
       "      <th>S</th>\n",
       "      <td>644</td>\n",
       "      <td>72.28</td>\n",
       "    </tr>\n",
       "  </tbody>\n",
       "</table>\n",
       "</div>"
      ],
      "text/plain": [
       "          Count  Percentage\n",
       "Embarked                   \n",
       "C           168       18.86\n",
       "Q            77        8.64\n",
       "S           644       72.28"
      ]
     },
     "execution_count": 35,
     "metadata": {},
     "output_type": "execute_result"
    }
   ],
   "source": [
    "# Checking passenger count by port of embarkation in the training data set\n",
    "\n",
    "embarked = pd.DataFrame(train.groupby(['Embarked']).count()['PassengerId'])\n",
    "embarked.columns = ['Count']\n",
    "embarked['Percentage'] = embarked.apply(lambda x: round((x['Count'] / train.shape[0])*100,2), axis = 1)\n",
    "\n",
    "embarked"
   ]
  },
  {
   "cell_type": "code",
   "execution_count": 36,
   "id": "72e7f2ae",
   "metadata": {},
   "outputs": [],
   "source": [
    "# Since there are a few null values, missing values will be filled with the mode\n",
    "\n",
    "train['Embarked'] = train.Embarked.fillna('S')"
   ]
  },
  {
   "cell_type": "code",
   "execution_count": 37,
   "id": "78017e70",
   "metadata": {},
   "outputs": [
    {
     "data": {
      "image/png": "[encoded data removed]",
      "text/plain": [
       "<Figure size 1600x400 with 1 Axes>"
      ]
     },
     "metadata": {},
     "output_type": "display_data"
    }
   ],
   "source": [
    "# Viewing training set port of embarkation distribution \n",
    "\n",
    "sns.set_style('darkgrid')\n",
    "\n",
    "plt.figure(figsize=(16,4))\n",
    "\n",
    "ax = sns.barplot(x = embarked['Count'],\n",
    "                 y = embarked.index,\n",
    "                 color = 'royalblue',\n",
    "                 orient = 'h')\n",
    "\n",
    "ax.set_title('Training set port of embarkation distribution', \n",
    "             fontweight = 'bold', \n",
    "             fontsize = 20, \n",
    "             y = 1.1)\n",
    "\n",
    "ax.set_xlabel('Passenger count')\n",
    "\n",
    "ax = ax"
   ]
  },
  {
   "cell_type": "code",
   "execution_count": 38,
   "id": "0615b6a1",
   "metadata": {},
   "outputs": [
    {
     "data": {
      "text/html": [
       "<div>\n",
       "<style scoped>\n",
       "    .dataframe tbody tr th:only-of-type {\n",
       "        vertical-align: middle;\n",
       "    }\n",
       "\n",
       "    .dataframe tbody tr th {\n",
       "        vertical-align: top;\n",
       "    }\n",
       "\n",
       "    .dataframe thead th {\n",
       "        text-align: right;\n",
       "    }\n",
       "</style>\n",
       "<table border=\"1\" class=\"dataframe\">\n",
       "  <thead>\n",
       "    <tr style=\"text-align: right;\">\n",
       "      <th></th>\n",
       "      <th>Survived</th>\n",
       "    </tr>\n",
       "    <tr>\n",
       "      <th>Embarked</th>\n",
       "      <th></th>\n",
       "    </tr>\n",
       "  </thead>\n",
       "  <tbody>\n",
       "    <tr>\n",
       "      <th>C</th>\n",
       "      <td>0.553571</td>\n",
       "    </tr>\n",
       "    <tr>\n",
       "      <th>Q</th>\n",
       "      <td>0.389610</td>\n",
       "    </tr>\n",
       "    <tr>\n",
       "      <th>S</th>\n",
       "      <td>0.339009</td>\n",
       "    </tr>\n",
       "  </tbody>\n",
       "</table>\n",
       "</div>"
      ],
      "text/plain": [
       "          Survived\n",
       "Embarked          \n",
       "C         0.553571\n",
       "Q         0.389610\n",
       "S         0.339009"
      ]
     },
     "execution_count": 38,
     "metadata": {},
     "output_type": "execute_result"
    }
   ],
   "source": [
    "# Checking survival grouped by port of embarkation\n",
    "\n",
    "embarked = pd.DataFrame(train[['Embarked', 'Survived']].groupby(['Embarked']).mean())\n",
    "embarked"
   ]
  },
  {
   "cell_type": "markdown",
   "id": "ebf25ddd",
   "metadata": {},
   "source": [
    "Passengers from port C ship have greater survival. This column will be used in model building."
   ]
  },
  {
   "cell_type": "markdown",
   "id": "4fdcf6fd",
   "metadata": {},
   "source": [
    "# 2. Feature Engineering"
   ]
  },
  {
   "cell_type": "markdown",
   "id": "b9b4ce4e",
   "metadata": {},
   "source": [
    "As it was possible to observe in the EDA, some variables will need to be modified to better fit the model. The following columns will be feature engineered:\n",
    "\n",
    "- Age, to create Age Bands\n",
    "- Name, to create Titles\n",
    "- SibSp and Parch, to check if there's family on board\n",
    "- Cabin, to check if the cabin was shared with another passenger"
   ]
  },
  {
   "cell_type": "markdown",
   "id": "e8c66e3f",
   "metadata": {},
   "source": [
    "## 2.1 Family on board"
   ]
  },
  {
   "cell_type": "code",
   "execution_count": 39,
   "id": "1c2a29e4",
   "metadata": {},
   "outputs": [],
   "source": [
    "# Creating a family size column \n",
    "\n",
    "train['FamilySize'] = train['SibSp'] + train['Parch'] + 1"
   ]
  },
  {
   "cell_type": "code",
   "execution_count": 40,
   "id": "fc1a4b85",
   "metadata": {},
   "outputs": [
    {
     "data": {
      "text/plain": [
       "count    891.000000\n",
       "mean       1.904602\n",
       "std        1.613459\n",
       "min        1.000000\n",
       "25%        1.000000\n",
       "50%        1.000000\n",
       "75%        2.000000\n",
       "max       11.000000\n",
       "Name: FamilySize, dtype: float64"
      ]
     },
     "execution_count": 40,
     "metadata": {},
     "output_type": "execute_result"
    }
   ],
   "source": [
    "# Checking the family size distribution in the training data set\n",
    "\n",
    "train.FamilySize.describe()"
   ]
  },
  {
   "cell_type": "code",
   "execution_count": 41,
   "id": "3e392cb2",
   "metadata": {},
   "outputs": [
    {
     "data": {
      "image/png": "[encoded data removed]",
      "text/plain": [
       "<Figure size 1600x200 with 1 Axes>"
      ]
     },
     "metadata": {},
     "output_type": "display_data"
    }
   ],
   "source": [
    "# Viewing training set family size distribution\n",
    "\n",
    "sns.set_style('darkgrid')\n",
    "\n",
    "plt.figure(figsize=(16,2))\n",
    "\n",
    "ax = sns.histplot(x = train['FamilySize'],\n",
    "                 color = 'royalblue',\n",
    "                 bins = 20)\n",
    "\n",
    "ax.set_title('Training set family size distribution', \n",
    "             fontweight = 'bold', \n",
    "             fontsize = 20, \n",
    "             y = 1.1)\n",
    "\n",
    "ax.set_xlabel('Passenger count', \n",
    "              fontweight = 'bold')\n",
    "\n",
    "ax = ax\n"
   ]
  },
  {
   "cell_type": "code",
   "execution_count": 42,
   "id": "6d00f1ac",
   "metadata": {},
   "outputs": [
    {
     "data": {
      "text/html": [
       "<div>\n",
       "<style scoped>\n",
       "    .dataframe tbody tr th:only-of-type {\n",
       "        vertical-align: middle;\n",
       "    }\n",
       "\n",
       "    .dataframe tbody tr th {\n",
       "        vertical-align: top;\n",
       "    }\n",
       "\n",
       "    .dataframe thead th {\n",
       "        text-align: right;\n",
       "    }\n",
       "</style>\n",
       "<table border=\"1\" class=\"dataframe\">\n",
       "  <thead>\n",
       "    <tr style=\"text-align: right;\">\n",
       "      <th></th>\n",
       "      <th>FamilySize</th>\n",
       "      <th>Survived</th>\n",
       "    </tr>\n",
       "  </thead>\n",
       "  <tbody>\n",
       "    <tr>\n",
       "      <th>FamilySize</th>\n",
       "      <td>1.000000</td>\n",
       "      <td>0.016639</td>\n",
       "    </tr>\n",
       "    <tr>\n",
       "      <th>Survived</th>\n",
       "      <td>0.016639</td>\n",
       "      <td>1.000000</td>\n",
       "    </tr>\n",
       "  </tbody>\n",
       "</table>\n",
       "</div>"
      ],
      "text/plain": [
       "            FamilySize  Survived\n",
       "FamilySize    1.000000  0.016639\n",
       "Survived      0.016639  1.000000"
      ]
     },
     "execution_count": 42,
     "metadata": {},
     "output_type": "execute_result"
    }
   ],
   "source": [
    "# Viewing correlation between family size and survival\n",
    "\n",
    "train[['FamilySize', 'Survived']].corr()"
   ]
  },
  {
   "cell_type": "markdown",
   "id": "86935be0",
   "metadata": {},
   "source": [
    "Still a small correlation. \n",
    "\n",
    "We can also create a variable to show if there's family on board, regardless of family size."
   ]
  },
  {
   "cell_type": "code",
   "execution_count": 43,
   "id": "9b05f548",
   "metadata": {},
   "outputs": [],
   "source": [
    "# Checking survival grouped by family size\n",
    "\n",
    "train['Family'] = train['FamilySize'].apply(lambda x: 0 if x == 1 else 1)"
   ]
  },
  {
   "cell_type": "code",
   "execution_count": 44,
   "id": "6fdc59f7",
   "metadata": {},
   "outputs": [
    {
     "data": {
      "text/html": [
       "<div>\n",
       "<style scoped>\n",
       "    .dataframe tbody tr th:only-of-type {\n",
       "        vertical-align: middle;\n",
       "    }\n",
       "\n",
       "    .dataframe tbody tr th {\n",
       "        vertical-align: top;\n",
       "    }\n",
       "\n",
       "    .dataframe thead th {\n",
       "        text-align: right;\n",
       "    }\n",
       "</style>\n",
       "<table border=\"1\" class=\"dataframe\">\n",
       "  <thead>\n",
       "    <tr style=\"text-align: right;\">\n",
       "      <th></th>\n",
       "      <th>Family</th>\n",
       "      <th>Survived</th>\n",
       "    </tr>\n",
       "  </thead>\n",
       "  <tbody>\n",
       "    <tr>\n",
       "      <th>Family</th>\n",
       "      <td>1.000000</td>\n",
       "      <td>0.203367</td>\n",
       "    </tr>\n",
       "    <tr>\n",
       "      <th>Survived</th>\n",
       "      <td>0.203367</td>\n",
       "      <td>1.000000</td>\n",
       "    </tr>\n",
       "  </tbody>\n",
       "</table>\n",
       "</div>"
      ],
      "text/plain": [
       "            Family  Survived\n",
       "Family    1.000000  0.203367\n",
       "Survived  0.203367  1.000000"
      ]
     },
     "execution_count": 44,
     "metadata": {},
     "output_type": "execute_result"
    }
   ],
   "source": [
    "# Viewing correlation between family and survival\n",
    "\n",
    "train[['Family', 'Survived']].corr()"
   ]
  },
  {
   "cell_type": "markdown",
   "id": "b27dc0bc",
   "metadata": {},
   "source": [
    "Since it showed greater correlation, this column will be used in model building."
   ]
  },
  {
   "cell_type": "markdown",
   "id": "8009e16d",
   "metadata": {},
   "source": [
    "## 2.2 Age Bands"
   ]
  },
  {
   "cell_type": "code",
   "execution_count": 45,
   "id": "f9153717",
   "metadata": {},
   "outputs": [
    {
     "data": {
      "image/png": "[encoded data removed]",
      "text/plain": [
       "<Figure size 600x300 with 2 Axes>"
      ]
     },
     "metadata": {},
     "output_type": "display_data"
    }
   ],
   "source": [
    "# Viewing age distribution by survival \n",
    "\n",
    "sns.set_style('darkgrid')\n",
    "\n",
    "ax = sns.FacetGrid(train, col='Survived')\n",
    "\n",
    "ax.map(plt.hist, 'Age', color = 'royalblue', bins = 5)\n",
    "\n",
    "ax = ax "
   ]
  },
  {
   "cell_type": "code",
   "execution_count": 46,
   "id": "30827422",
   "metadata": {},
   "outputs": [
    {
     "data": {
      "text/plain": [
       "(16.336, 32.252]    523\n",
       "(32.252, 48.168]    188\n",
       "(0.34, 16.336]      100\n",
       "(48.168, 64.084]     69\n",
       "(64.084, 80.0]       11\n",
       "Name: AgeBand, dtype: int64"
      ]
     },
     "execution_count": 46,
     "metadata": {},
     "output_type": "execute_result"
    }
   ],
   "source": [
    "# Creating age bands\n",
    "\n",
    "train['AgeBand'] = pd.cut(train['Age'], 5)\n",
    "\n",
    "train['AgeBand'].value_counts()"
   ]
  },
  {
   "cell_type": "code",
   "execution_count": 47,
   "id": "20c92912",
   "metadata": {},
   "outputs": [
    {
     "data": {
      "text/html": [
       "<div>\n",
       "<style scoped>\n",
       "    .dataframe tbody tr th:only-of-type {\n",
       "        vertical-align: middle;\n",
       "    }\n",
       "\n",
       "    .dataframe tbody tr th {\n",
       "        vertical-align: top;\n",
       "    }\n",
       "\n",
       "    .dataframe thead th {\n",
       "        text-align: right;\n",
       "    }\n",
       "</style>\n",
       "<table border=\"1\" class=\"dataframe\">\n",
       "  <thead>\n",
       "    <tr style=\"text-align: right;\">\n",
       "      <th></th>\n",
       "      <th>Survived</th>\n",
       "    </tr>\n",
       "    <tr>\n",
       "      <th>AgeBand</th>\n",
       "      <th></th>\n",
       "    </tr>\n",
       "  </thead>\n",
       "  <tbody>\n",
       "    <tr>\n",
       "      <th>(0.34, 16.336]</th>\n",
       "      <td>0.550000</td>\n",
       "    </tr>\n",
       "    <tr>\n",
       "      <th>(16.336, 32.252]</th>\n",
       "      <td>0.344168</td>\n",
       "    </tr>\n",
       "    <tr>\n",
       "      <th>(32.252, 48.168]</th>\n",
       "      <td>0.404255</td>\n",
       "    </tr>\n",
       "    <tr>\n",
       "      <th>(48.168, 64.084]</th>\n",
       "      <td>0.434783</td>\n",
       "    </tr>\n",
       "    <tr>\n",
       "      <th>(64.084, 80.0]</th>\n",
       "      <td>0.090909</td>\n",
       "    </tr>\n",
       "  </tbody>\n",
       "</table>\n",
       "</div>"
      ],
      "text/plain": [
       "                  Survived\n",
       "AgeBand                   \n",
       "(0.34, 16.336]    0.550000\n",
       "(16.336, 32.252]  0.344168\n",
       "(32.252, 48.168]  0.404255\n",
       "(48.168, 64.084]  0.434783\n",
       "(64.084, 80.0]    0.090909"
      ]
     },
     "execution_count": 47,
     "metadata": {},
     "output_type": "execute_result"
    }
   ],
   "source": [
    "# Checking survival grouped by age band\n",
    "\n",
    "ageband = pd.DataFrame(train[['AgeBand', 'Survived']].groupby(['AgeBand']).mean())\n",
    "ageband"
   ]
  },
  {
   "cell_type": "markdown",
   "id": "90642930",
   "metadata": {},
   "source": [
    "Passengers under 17 years old showed greater chance to survive. \n",
    "\n",
    "The age band column will be used in model building."
   ]
  },
  {
   "cell_type": "markdown",
   "id": "1bbd7b20",
   "metadata": {},
   "source": [
    "## 2.3 Titles"
   ]
  },
  {
   "cell_type": "code",
   "execution_count": 48,
   "id": "1902efda",
   "metadata": {},
   "outputs": [],
   "source": [
    "# Creating the title column\n",
    "\n",
    "train['Title'] = train.apply(lambda x: re.findall(r'(,\\s.*?)\\.', x['Name'])[0][1:], axis = 1)"
   ]
  },
  {
   "cell_type": "code",
   "execution_count": 49,
   "id": "8d99c03b",
   "metadata": {},
   "outputs": [
    {
     "data": {
      "text/html": [
       "<div>\n",
       "<style scoped>\n",
       "    .dataframe tbody tr th:only-of-type {\n",
       "        vertical-align: middle;\n",
       "    }\n",
       "\n",
       "    .dataframe tbody tr th {\n",
       "        vertical-align: top;\n",
       "    }\n",
       "\n",
       "    .dataframe thead th {\n",
       "        text-align: right;\n",
       "    }\n",
       "</style>\n",
       "<table border=\"1\" class=\"dataframe\">\n",
       "  <thead>\n",
       "    <tr style=\"text-align: right;\">\n",
       "      <th></th>\n",
       "      <th>Count</th>\n",
       "      <th>Percentage</th>\n",
       "    </tr>\n",
       "    <tr>\n",
       "      <th>Title</th>\n",
       "      <th></th>\n",
       "      <th></th>\n",
       "    </tr>\n",
       "  </thead>\n",
       "  <tbody>\n",
       "    <tr>\n",
       "      <th>Mr</th>\n",
       "      <td>517</td>\n",
       "      <td>58.02</td>\n",
       "    </tr>\n",
       "    <tr>\n",
       "      <th>Miss</th>\n",
       "      <td>182</td>\n",
       "      <td>20.43</td>\n",
       "    </tr>\n",
       "    <tr>\n",
       "      <th>Mrs</th>\n",
       "      <td>125</td>\n",
       "      <td>14.03</td>\n",
       "    </tr>\n",
       "    <tr>\n",
       "      <th>Master</th>\n",
       "      <td>40</td>\n",
       "      <td>4.49</td>\n",
       "    </tr>\n",
       "    <tr>\n",
       "      <th>Dr</th>\n",
       "      <td>7</td>\n",
       "      <td>0.79</td>\n",
       "    </tr>\n",
       "    <tr>\n",
       "      <th>Rev</th>\n",
       "      <td>6</td>\n",
       "      <td>0.67</td>\n",
       "    </tr>\n",
       "    <tr>\n",
       "      <th>Major</th>\n",
       "      <td>2</td>\n",
       "      <td>0.22</td>\n",
       "    </tr>\n",
       "    <tr>\n",
       "      <th>Col</th>\n",
       "      <td>2</td>\n",
       "      <td>0.22</td>\n",
       "    </tr>\n",
       "    <tr>\n",
       "      <th>Mlle</th>\n",
       "      <td>2</td>\n",
       "      <td>0.22</td>\n",
       "    </tr>\n",
       "    <tr>\n",
       "      <th>Sir</th>\n",
       "      <td>1</td>\n",
       "      <td>0.11</td>\n",
       "    </tr>\n",
       "    <tr>\n",
       "      <th>Ms</th>\n",
       "      <td>1</td>\n",
       "      <td>0.11</td>\n",
       "    </tr>\n",
       "    <tr>\n",
       "      <th>Capt</th>\n",
       "      <td>1</td>\n",
       "      <td>0.11</td>\n",
       "    </tr>\n",
       "    <tr>\n",
       "      <th>Mme</th>\n",
       "      <td>1</td>\n",
       "      <td>0.11</td>\n",
       "    </tr>\n",
       "    <tr>\n",
       "      <th>Lady</th>\n",
       "      <td>1</td>\n",
       "      <td>0.11</td>\n",
       "    </tr>\n",
       "    <tr>\n",
       "      <th>Jonkheer</th>\n",
       "      <td>1</td>\n",
       "      <td>0.11</td>\n",
       "    </tr>\n",
       "    <tr>\n",
       "      <th>Don</th>\n",
       "      <td>1</td>\n",
       "      <td>0.11</td>\n",
       "    </tr>\n",
       "    <tr>\n",
       "      <th>the Countess</th>\n",
       "      <td>1</td>\n",
       "      <td>0.11</td>\n",
       "    </tr>\n",
       "  </tbody>\n",
       "</table>\n",
       "</div>"
      ],
      "text/plain": [
       "               Count  Percentage\n",
       "Title                           \n",
       " Mr              517       58.02\n",
       " Miss            182       20.43\n",
       " Mrs             125       14.03\n",
       " Master           40        4.49\n",
       " Dr                7        0.79\n",
       " Rev               6        0.67\n",
       " Major             2        0.22\n",
       " Col               2        0.22\n",
       " Mlle              2        0.22\n",
       " Sir               1        0.11\n",
       " Ms                1        0.11\n",
       " Capt              1        0.11\n",
       " Mme               1        0.11\n",
       " Lady              1        0.11\n",
       " Jonkheer          1        0.11\n",
       " Don               1        0.11\n",
       " the Countess      1        0.11"
      ]
     },
     "execution_count": 49,
     "metadata": {},
     "output_type": "execute_result"
    }
   ],
   "source": [
    "# Checking passenger count by title in the training data set\n",
    "\n",
    "title = pd.DataFrame(train.groupby(['Title']).count()['PassengerId'])\n",
    "title.columns = ['Count']\n",
    "title['Percentage'] = title.apply(lambda x: round((x['Count'] / train.shape[0])*100,2), axis = 1)\n",
    "\n",
    "title = title.sort_values('Count', ascending = False)\n",
    "\n",
    "title"
   ]
  },
  {
   "cell_type": "code",
   "execution_count": 50,
   "id": "4981e8f6",
   "metadata": {},
   "outputs": [
    {
     "data": {
      "image/png": "[encoded data removed]",
      "text/plain": [
       "<Figure size 1600x400 with 1 Axes>"
      ]
     },
     "metadata": {},
     "output_type": "display_data"
    }
   ],
   "source": [
    "# Viewing training set title distribution \n",
    "\n",
    "sns.set_style('darkgrid')\n",
    "\n",
    "plt.figure(figsize=(16,4))\n",
    "\n",
    "ax = sns.barplot(x = title['Count'],\n",
    "                 y = title.index,\n",
    "                 color = 'royalblue',\n",
    "                 orient = 'h')\n",
    "\n",
    "ax.set_title('Training set title distribution', \n",
    "             fontweight = 'bold', \n",
    "             fontsize = 20, \n",
    "             y = 1.1)\n",
    "\n",
    "ax.set_xlabel('Passenger count')\n",
    "\n",
    "ax = ax"
   ]
  },
  {
   "cell_type": "markdown",
   "id": "62539235",
   "metadata": {},
   "source": [
    "Seems like the titles Mr., Miss., Mrs., and Master. are the ones more relevant, then they'll be included in model building. \n",
    "\n",
    "The other ones will be grouped under the label \"Others\"."
   ]
  },
  {
   "cell_type": "code",
   "execution_count": 51,
   "id": "63bd78d3",
   "metadata": {},
   "outputs": [],
   "source": [
    "# Grouping other titles under the label \"Others\"\n",
    "\n",
    "train['Title'].replace(to_replace = ['Dr', 'Rev', 'Major', 'Col', 'Mlle', 'Sir', 'Ms', 'Capt', 'Mme', 'Lady', 'Jonkheer', 'Don', 'the Countess'], \n",
    "                       value = 'Others', \n",
    "                       inplace = True, \n",
    "                       regex = True)"
   ]
  },
  {
   "cell_type": "code",
   "execution_count": 52,
   "id": "71926e42",
   "metadata": {
    "scrolled": true
   },
   "outputs": [
    {
     "data": {
      "text/html": [
       "<div>\n",
       "<style scoped>\n",
       "    .dataframe tbody tr th:only-of-type {\n",
       "        vertical-align: middle;\n",
       "    }\n",
       "\n",
       "    .dataframe tbody tr th {\n",
       "        vertical-align: top;\n",
       "    }\n",
       "\n",
       "    .dataframe thead th {\n",
       "        text-align: right;\n",
       "    }\n",
       "</style>\n",
       "<table border=\"1\" class=\"dataframe\">\n",
       "  <thead>\n",
       "    <tr style=\"text-align: right;\">\n",
       "      <th></th>\n",
       "      <th>Survived</th>\n",
       "    </tr>\n",
       "    <tr>\n",
       "      <th>Title</th>\n",
       "      <th></th>\n",
       "    </tr>\n",
       "  </thead>\n",
       "  <tbody>\n",
       "    <tr>\n",
       "      <th>Mrs</th>\n",
       "      <td>0.792000</td>\n",
       "    </tr>\n",
       "    <tr>\n",
       "      <th>Miss</th>\n",
       "      <td>0.697802</td>\n",
       "    </tr>\n",
       "    <tr>\n",
       "      <th>Master</th>\n",
       "      <td>0.575000</td>\n",
       "    </tr>\n",
       "    <tr>\n",
       "      <th>Others</th>\n",
       "      <td>0.444444</td>\n",
       "    </tr>\n",
       "    <tr>\n",
       "      <th>Mr</th>\n",
       "      <td>0.156673</td>\n",
       "    </tr>\n",
       "  </tbody>\n",
       "</table>\n",
       "</div>"
      ],
      "text/plain": [
       "         Survived\n",
       "Title            \n",
       " Mrs     0.792000\n",
       " Miss    0.697802\n",
       " Master  0.575000\n",
       " Others  0.444444\n",
       " Mr      0.156673"
      ]
     },
     "execution_count": 52,
     "metadata": {},
     "output_type": "execute_result"
    }
   ],
   "source": [
    "# Checking survival grouped by title\n",
    "\n",
    "title = pd.DataFrame(train[['Title', 'Survived']].groupby(['Title']).mean())\n",
    "title.sort_values('Survived', ascending = False)"
   ]
  },
  {
   "cell_type": "markdown",
   "id": "f49e8d7e",
   "metadata": {},
   "source": [
    "The titles 'Mrs.' and 'Miss.' showed greater correlation with survival. All titles except \"Others\" will be included in model building."
   ]
  },
  {
   "cell_type": "markdown",
   "id": "e8e04a87",
   "metadata": {},
   "source": [
    "### 2.4 Cabin Sharing"
   ]
  },
  {
   "cell_type": "code",
   "execution_count": 53,
   "id": "587fbd76",
   "metadata": {},
   "outputs": [],
   "source": [
    "# Creating a 'CabinShared' column\n",
    "# Since there are a lot of null values, missing values will be considered as a shared cabin\n",
    "\n",
    "train['CabinShared'] = train.Cabin.fillna('shared')\n",
    "train['CabinShared'] = train.Cabin.duplicated()\n",
    "train['CabinShared'] = train['CabinShared'].apply(lambda x: 1 if x == True else 0)"
   ]
  },
  {
   "cell_type": "code",
   "execution_count": 54,
   "id": "f929048c",
   "metadata": {},
   "outputs": [
    {
     "data": {
      "text/html": [
       "<div>\n",
       "<style scoped>\n",
       "    .dataframe tbody tr th:only-of-type {\n",
       "        vertical-align: middle;\n",
       "    }\n",
       "\n",
       "    .dataframe tbody tr th {\n",
       "        vertical-align: top;\n",
       "    }\n",
       "\n",
       "    .dataframe thead th {\n",
       "        text-align: right;\n",
       "    }\n",
       "</style>\n",
       "<table border=\"1\" class=\"dataframe\">\n",
       "  <thead>\n",
       "    <tr style=\"text-align: right;\">\n",
       "      <th></th>\n",
       "      <th>Count</th>\n",
       "      <th>Percentage</th>\n",
       "    </tr>\n",
       "    <tr>\n",
       "      <th>CabinShared</th>\n",
       "      <th></th>\n",
       "      <th></th>\n",
       "    </tr>\n",
       "  </thead>\n",
       "  <tbody>\n",
       "    <tr>\n",
       "      <th>0</th>\n",
       "      <td>148</td>\n",
       "      <td>16.61</td>\n",
       "    </tr>\n",
       "    <tr>\n",
       "      <th>1</th>\n",
       "      <td>743</td>\n",
       "      <td>83.39</td>\n",
       "    </tr>\n",
       "  </tbody>\n",
       "</table>\n",
       "</div>"
      ],
      "text/plain": [
       "             Count  Percentage\n",
       "CabinShared                   \n",
       "0              148       16.61\n",
       "1              743       83.39"
      ]
     },
     "execution_count": 54,
     "metadata": {},
     "output_type": "execute_result"
    }
   ],
   "source": [
    "# Checking shared cabins count in the training data set\n",
    "\n",
    "cabinshared = pd.DataFrame(train.groupby(['CabinShared']).count()['PassengerId'])\n",
    "cabinshared.columns = ['Count']\n",
    "cabinshared['Percentage'] = cabinshared.apply(lambda x: round((x['Count'] / train.shape[0])*100,2), axis = 1)\n",
    "\n",
    "cabinshared"
   ]
  },
  {
   "cell_type": "code",
   "execution_count": 55,
   "id": "3170caa0",
   "metadata": {},
   "outputs": [
    {
     "data": {
      "image/png": "[encoded data removed]",
      "text/plain": [
       "<Figure size 1600x400 with 1 Axes>"
      ]
     },
     "metadata": {},
     "output_type": "display_data"
    }
   ],
   "source": [
    "# Viewing training cabin sharing distribution \n",
    "\n",
    "sns.set_style('darkgrid')\n",
    "\n",
    "plt.figure(figsize=(16,4))\n",
    "\n",
    "ax = sns.barplot(x = cabinshared['Count'],\n",
    "                 y = cabinshared.index,\n",
    "                 color = 'royalblue',\n",
    "                 orient = 'h')\n",
    "\n",
    "ax.set_title('Training set cabin sharing distribution', \n",
    "             fontweight = 'bold', \n",
    "             fontsize = 20, \n",
    "             y = 1.1)\n",
    "\n",
    "ax.set_xlabel('Passenger count')\n",
    "\n",
    "ax = ax"
   ]
  },
  {
   "cell_type": "code",
   "execution_count": 56,
   "id": "4bbfc896",
   "metadata": {},
   "outputs": [
    {
     "data": {
      "text/html": [
       "<div>\n",
       "<style scoped>\n",
       "    .dataframe tbody tr th:only-of-type {\n",
       "        vertical-align: middle;\n",
       "    }\n",
       "\n",
       "    .dataframe tbody tr th {\n",
       "        vertical-align: top;\n",
       "    }\n",
       "\n",
       "    .dataframe thead th {\n",
       "        text-align: right;\n",
       "    }\n",
       "</style>\n",
       "<table border=\"1\" class=\"dataframe\">\n",
       "  <thead>\n",
       "    <tr style=\"text-align: right;\">\n",
       "      <th></th>\n",
       "      <th>Survived</th>\n",
       "    </tr>\n",
       "    <tr>\n",
       "      <th>CabinShared</th>\n",
       "      <th></th>\n",
       "    </tr>\n",
       "  </thead>\n",
       "  <tbody>\n",
       "    <tr>\n",
       "      <th>0</th>\n",
       "      <td>0.621622</td>\n",
       "    </tr>\n",
       "    <tr>\n",
       "      <th>1</th>\n",
       "      <td>0.336474</td>\n",
       "    </tr>\n",
       "  </tbody>\n",
       "</table>\n",
       "</div>"
      ],
      "text/plain": [
       "             Survived\n",
       "CabinShared          \n",
       "0            0.621622\n",
       "1            0.336474"
      ]
     },
     "execution_count": 56,
     "metadata": {},
     "output_type": "execute_result"
    }
   ],
   "source": [
    "# Checking survival grouped by cabin sharing\n",
    "\n",
    "title = pd.DataFrame(train[['CabinShared', 'Survived']].groupby(['CabinShared']).mean())\n",
    "title.sort_values('Survived', ascending = False)"
   ]
  },
  {
   "cell_type": "markdown",
   "id": "32c62d39",
   "metadata": {},
   "source": [
    "Not sharing a cabin showed greater survival. This column will be added to the model."
   ]
  },
  {
   "cell_type": "markdown",
   "id": "51f9b42e",
   "metadata": {},
   "source": [
    "# 3. Data Preprocessing"
   ]
  },
  {
   "cell_type": "markdown",
   "id": "284b2293",
   "metadata": {},
   "source": [
    "In this step, we'll:\n",
    "\n",
    "- Select only the necessary columns for model building\n",
    "- Split data into X and Y\n",
    "- One-Hot-Encode nominal columns\n",
    "- Train-test-split the data set\n",
    "- Scale the X data set"
   ]
  },
  {
   "cell_type": "code",
   "execution_count": 57,
   "id": "7eff768e",
   "metadata": {},
   "outputs": [],
   "source": [
    "# Importing libraries\n",
    "\n",
    "from sklearn.model_selection import train_test_split\n",
    "from sklearn.preprocessing import StandardScaler\n"
   ]
  },
  {
   "cell_type": "code",
   "execution_count": 58,
   "id": "b0424c50",
   "metadata": {},
   "outputs": [
    {
     "data": {
      "text/html": [
       "<div>\n",
       "<style scoped>\n",
       "    .dataframe tbody tr th:only-of-type {\n",
       "        vertical-align: middle;\n",
       "    }\n",
       "\n",
       "    .dataframe tbody tr th {\n",
       "        vertical-align: top;\n",
       "    }\n",
       "\n",
       "    .dataframe thead th {\n",
       "        text-align: right;\n",
       "    }\n",
       "</style>\n",
       "<table border=\"1\" class=\"dataframe\">\n",
       "  <thead>\n",
       "    <tr style=\"text-align: right;\">\n",
       "      <th></th>\n",
       "      <th>Survived</th>\n",
       "      <th>Pclass</th>\n",
       "      <th>Sex</th>\n",
       "      <th>Fare</th>\n",
       "      <th>Embarked</th>\n",
       "      <th>Family</th>\n",
       "      <th>AgeBand</th>\n",
       "      <th>Title</th>\n",
       "      <th>CabinShared</th>\n",
       "    </tr>\n",
       "  </thead>\n",
       "  <tbody>\n",
       "    <tr>\n",
       "      <th>0</th>\n",
       "      <td>0</td>\n",
       "      <td>3</td>\n",
       "      <td>male</td>\n",
       "      <td>7.2500</td>\n",
       "      <td>S</td>\n",
       "      <td>1</td>\n",
       "      <td>(16.336, 32.252]</td>\n",
       "      <td>Mr</td>\n",
       "      <td>0</td>\n",
       "    </tr>\n",
       "    <tr>\n",
       "      <th>1</th>\n",
       "      <td>1</td>\n",
       "      <td>1</td>\n",
       "      <td>female</td>\n",
       "      <td>71.2833</td>\n",
       "      <td>C</td>\n",
       "      <td>1</td>\n",
       "      <td>(32.252, 48.168]</td>\n",
       "      <td>Mrs</td>\n",
       "      <td>0</td>\n",
       "    </tr>\n",
       "    <tr>\n",
       "      <th>2</th>\n",
       "      <td>1</td>\n",
       "      <td>3</td>\n",
       "      <td>female</td>\n",
       "      <td>7.9250</td>\n",
       "      <td>S</td>\n",
       "      <td>0</td>\n",
       "      <td>(16.336, 32.252]</td>\n",
       "      <td>Miss</td>\n",
       "      <td>1</td>\n",
       "    </tr>\n",
       "    <tr>\n",
       "      <th>3</th>\n",
       "      <td>1</td>\n",
       "      <td>1</td>\n",
       "      <td>female</td>\n",
       "      <td>53.1000</td>\n",
       "      <td>S</td>\n",
       "      <td>1</td>\n",
       "      <td>(32.252, 48.168]</td>\n",
       "      <td>Mrs</td>\n",
       "      <td>0</td>\n",
       "    </tr>\n",
       "    <tr>\n",
       "      <th>4</th>\n",
       "      <td>0</td>\n",
       "      <td>3</td>\n",
       "      <td>male</td>\n",
       "      <td>8.0500</td>\n",
       "      <td>S</td>\n",
       "      <td>0</td>\n",
       "      <td>(32.252, 48.168]</td>\n",
       "      <td>Mr</td>\n",
       "      <td>1</td>\n",
       "    </tr>\n",
       "    <tr>\n",
       "      <th>...</th>\n",
       "      <td>...</td>\n",
       "      <td>...</td>\n",
       "      <td>...</td>\n",
       "      <td>...</td>\n",
       "      <td>...</td>\n",
       "      <td>...</td>\n",
       "      <td>...</td>\n",
       "      <td>...</td>\n",
       "      <td>...</td>\n",
       "    </tr>\n",
       "    <tr>\n",
       "      <th>886</th>\n",
       "      <td>0</td>\n",
       "      <td>2</td>\n",
       "      <td>male</td>\n",
       "      <td>13.0000</td>\n",
       "      <td>S</td>\n",
       "      <td>0</td>\n",
       "      <td>(16.336, 32.252]</td>\n",
       "      <td>Others</td>\n",
       "      <td>1</td>\n",
       "    </tr>\n",
       "    <tr>\n",
       "      <th>887</th>\n",
       "      <td>1</td>\n",
       "      <td>1</td>\n",
       "      <td>female</td>\n",
       "      <td>30.0000</td>\n",
       "      <td>S</td>\n",
       "      <td>0</td>\n",
       "      <td>(16.336, 32.252]</td>\n",
       "      <td>Miss</td>\n",
       "      <td>0</td>\n",
       "    </tr>\n",
       "    <tr>\n",
       "      <th>888</th>\n",
       "      <td>0</td>\n",
       "      <td>3</td>\n",
       "      <td>female</td>\n",
       "      <td>23.4500</td>\n",
       "      <td>S</td>\n",
       "      <td>1</td>\n",
       "      <td>(16.336, 32.252]</td>\n",
       "      <td>Miss</td>\n",
       "      <td>1</td>\n",
       "    </tr>\n",
       "    <tr>\n",
       "      <th>889</th>\n",
       "      <td>1</td>\n",
       "      <td>1</td>\n",
       "      <td>male</td>\n",
       "      <td>30.0000</td>\n",
       "      <td>C</td>\n",
       "      <td>0</td>\n",
       "      <td>(16.336, 32.252]</td>\n",
       "      <td>Mr</td>\n",
       "      <td>0</td>\n",
       "    </tr>\n",
       "    <tr>\n",
       "      <th>890</th>\n",
       "      <td>0</td>\n",
       "      <td>3</td>\n",
       "      <td>male</td>\n",
       "      <td>7.7500</td>\n",
       "      <td>Q</td>\n",
       "      <td>0</td>\n",
       "      <td>(16.336, 32.252]</td>\n",
       "      <td>Mr</td>\n",
       "      <td>1</td>\n",
       "    </tr>\n",
       "  </tbody>\n",
       "</table>\n",
       "<p>891 rows × 9 columns</p>\n",
       "</div>"
      ],
      "text/plain": [
       "     Survived  Pclass     Sex     Fare Embarked  Family           AgeBand  \\\n",
       "0           0       3    male   7.2500        S       1  (16.336, 32.252]   \n",
       "1           1       1  female  71.2833        C       1  (32.252, 48.168]   \n",
       "2           1       3  female   7.9250        S       0  (16.336, 32.252]   \n",
       "3           1       1  female  53.1000        S       1  (32.252, 48.168]   \n",
       "4           0       3    male   8.0500        S       0  (32.252, 48.168]   \n",
       "..        ...     ...     ...      ...      ...     ...               ...   \n",
       "886         0       2    male  13.0000        S       0  (16.336, 32.252]   \n",
       "887         1       1  female  30.0000        S       0  (16.336, 32.252]   \n",
       "888         0       3  female  23.4500        S       1  (16.336, 32.252]   \n",
       "889         1       1    male  30.0000        C       0  (16.336, 32.252]   \n",
       "890         0       3    male   7.7500        Q       0  (16.336, 32.252]   \n",
       "\n",
       "       Title  CabinShared  \n",
       "0         Mr            0  \n",
       "1        Mrs            0  \n",
       "2       Miss            1  \n",
       "3        Mrs            0  \n",
       "4         Mr            1  \n",
       "..       ...          ...  \n",
       "886   Others            1  \n",
       "887     Miss            0  \n",
       "888     Miss            1  \n",
       "889       Mr            0  \n",
       "890       Mr            1  \n",
       "\n",
       "[891 rows x 9 columns]"
      ]
     },
     "execution_count": 58,
     "metadata": {},
     "output_type": "execute_result"
    }
   ],
   "source": [
    "# Selecting only the necessary columns for the model building\n",
    "\n",
    "train = train[['Survived', 'Pclass', 'Sex', 'Fare', 'Embarked', 'Family', 'AgeBand', 'Title', 'CabinShared']]\n",
    "train"
   ]
  },
  {
   "cell_type": "code",
   "execution_count": 59,
   "id": "8dadfc85",
   "metadata": {},
   "outputs": [],
   "source": [
    "# Splitting data into X and Y\n",
    "\n",
    "X = train[['Pclass', 'Sex', 'Fare', 'Embarked', 'Family', 'AgeBand', 'Title', 'CabinShared']]\n",
    "Y = train['Survived']"
   ]
  },
  {
   "cell_type": "code",
   "execution_count": 60,
   "id": "3b0d22a7",
   "metadata": {},
   "outputs": [
    {
     "data": {
      "text/html": [
       "<div>\n",
       "<style scoped>\n",
       "    .dataframe tbody tr th:only-of-type {\n",
       "        vertical-align: middle;\n",
       "    }\n",
       "\n",
       "    .dataframe tbody tr th {\n",
       "        vertical-align: top;\n",
       "    }\n",
       "\n",
       "    .dataframe thead th {\n",
       "        text-align: right;\n",
       "    }\n",
       "</style>\n",
       "<table border=\"1\" class=\"dataframe\">\n",
       "  <thead>\n",
       "    <tr style=\"text-align: right;\">\n",
       "      <th></th>\n",
       "      <th>Pclass</th>\n",
       "      <th>Fare</th>\n",
       "      <th>Family</th>\n",
       "      <th>CabinShared</th>\n",
       "      <th>Sex_female</th>\n",
       "      <th>Embarked_Q</th>\n",
       "      <th>Embarked_S</th>\n",
       "      <th>AgeBand_(16.336, 32.252]</th>\n",
       "      <th>AgeBand_(32.252, 48.168]</th>\n",
       "      <th>AgeBand_(48.168, 64.084]</th>\n",
       "      <th>AgeBand_(64.084, 80.0]</th>\n",
       "      <th>Title_ Master</th>\n",
       "      <th>Title_ Miss</th>\n",
       "      <th>Title_ Mr</th>\n",
       "      <th>Title_ Mrs</th>\n",
       "    </tr>\n",
       "  </thead>\n",
       "  <tbody>\n",
       "    <tr>\n",
       "      <th>0</th>\n",
       "      <td>3</td>\n",
       "      <td>7.2500</td>\n",
       "      <td>1</td>\n",
       "      <td>0</td>\n",
       "      <td>0</td>\n",
       "      <td>0</td>\n",
       "      <td>1</td>\n",
       "      <td>1</td>\n",
       "      <td>0</td>\n",
       "      <td>0</td>\n",
       "      <td>0</td>\n",
       "      <td>0</td>\n",
       "      <td>0</td>\n",
       "      <td>1</td>\n",
       "      <td>0</td>\n",
       "    </tr>\n",
       "    <tr>\n",
       "      <th>1</th>\n",
       "      <td>1</td>\n",
       "      <td>71.2833</td>\n",
       "      <td>1</td>\n",
       "      <td>0</td>\n",
       "      <td>1</td>\n",
       "      <td>0</td>\n",
       "      <td>0</td>\n",
       "      <td>0</td>\n",
       "      <td>1</td>\n",
       "      <td>0</td>\n",
       "      <td>0</td>\n",
       "      <td>0</td>\n",
       "      <td>0</td>\n",
       "      <td>0</td>\n",
       "      <td>1</td>\n",
       "    </tr>\n",
       "    <tr>\n",
       "      <th>2</th>\n",
       "      <td>3</td>\n",
       "      <td>7.9250</td>\n",
       "      <td>0</td>\n",
       "      <td>1</td>\n",
       "      <td>1</td>\n",
       "      <td>0</td>\n",
       "      <td>1</td>\n",
       "      <td>1</td>\n",
       "      <td>0</td>\n",
       "      <td>0</td>\n",
       "      <td>0</td>\n",
       "      <td>0</td>\n",
       "      <td>1</td>\n",
       "      <td>0</td>\n",
       "      <td>0</td>\n",
       "    </tr>\n",
       "    <tr>\n",
       "      <th>3</th>\n",
       "      <td>1</td>\n",
       "      <td>53.1000</td>\n",
       "      <td>1</td>\n",
       "      <td>0</td>\n",
       "      <td>1</td>\n",
       "      <td>0</td>\n",
       "      <td>1</td>\n",
       "      <td>0</td>\n",
       "      <td>1</td>\n",
       "      <td>0</td>\n",
       "      <td>0</td>\n",
       "      <td>0</td>\n",
       "      <td>0</td>\n",
       "      <td>0</td>\n",
       "      <td>1</td>\n",
       "    </tr>\n",
       "    <tr>\n",
       "      <th>4</th>\n",
       "      <td>3</td>\n",
       "      <td>8.0500</td>\n",
       "      <td>0</td>\n",
       "      <td>1</td>\n",
       "      <td>0</td>\n",
       "      <td>0</td>\n",
       "      <td>1</td>\n",
       "      <td>0</td>\n",
       "      <td>1</td>\n",
       "      <td>0</td>\n",
       "      <td>0</td>\n",
       "      <td>0</td>\n",
       "      <td>0</td>\n",
       "      <td>1</td>\n",
       "      <td>0</td>\n",
       "    </tr>\n",
       "    <tr>\n",
       "      <th>...</th>\n",
       "      <td>...</td>\n",
       "      <td>...</td>\n",
       "      <td>...</td>\n",
       "      <td>...</td>\n",
       "      <td>...</td>\n",
       "      <td>...</td>\n",
       "      <td>...</td>\n",
       "      <td>...</td>\n",
       "      <td>...</td>\n",
       "      <td>...</td>\n",
       "      <td>...</td>\n",
       "      <td>...</td>\n",
       "      <td>...</td>\n",
       "      <td>...</td>\n",
       "      <td>...</td>\n",
       "    </tr>\n",
       "    <tr>\n",
       "      <th>886</th>\n",
       "      <td>2</td>\n",
       "      <td>13.0000</td>\n",
       "      <td>0</td>\n",
       "      <td>1</td>\n",
       "      <td>0</td>\n",
       "      <td>0</td>\n",
       "      <td>1</td>\n",
       "      <td>1</td>\n",
       "      <td>0</td>\n",
       "      <td>0</td>\n",
       "      <td>0</td>\n",
       "      <td>0</td>\n",
       "      <td>0</td>\n",
       "      <td>0</td>\n",
       "      <td>0</td>\n",
       "    </tr>\n",
       "    <tr>\n",
       "      <th>887</th>\n",
       "      <td>1</td>\n",
       "      <td>30.0000</td>\n",
       "      <td>0</td>\n",
       "      <td>0</td>\n",
       "      <td>1</td>\n",
       "      <td>0</td>\n",
       "      <td>1</td>\n",
       "      <td>1</td>\n",
       "      <td>0</td>\n",
       "      <td>0</td>\n",
       "      <td>0</td>\n",
       "      <td>0</td>\n",
       "      <td>1</td>\n",
       "      <td>0</td>\n",
       "      <td>0</td>\n",
       "    </tr>\n",
       "    <tr>\n",
       "      <th>888</th>\n",
       "      <td>3</td>\n",
       "      <td>23.4500</td>\n",
       "      <td>1</td>\n",
       "      <td>1</td>\n",
       "      <td>1</td>\n",
       "      <td>0</td>\n",
       "      <td>1</td>\n",
       "      <td>1</td>\n",
       "      <td>0</td>\n",
       "      <td>0</td>\n",
       "      <td>0</td>\n",
       "      <td>0</td>\n",
       "      <td>1</td>\n",
       "      <td>0</td>\n",
       "      <td>0</td>\n",
       "    </tr>\n",
       "    <tr>\n",
       "      <th>889</th>\n",
       "      <td>1</td>\n",
       "      <td>30.0000</td>\n",
       "      <td>0</td>\n",
       "      <td>0</td>\n",
       "      <td>0</td>\n",
       "      <td>0</td>\n",
       "      <td>0</td>\n",
       "      <td>1</td>\n",
       "      <td>0</td>\n",
       "      <td>0</td>\n",
       "      <td>0</td>\n",
       "      <td>0</td>\n",
       "      <td>0</td>\n",
       "      <td>1</td>\n",
       "      <td>0</td>\n",
       "    </tr>\n",
       "    <tr>\n",
       "      <th>890</th>\n",
       "      <td>3</td>\n",
       "      <td>7.7500</td>\n",
       "      <td>0</td>\n",
       "      <td>1</td>\n",
       "      <td>0</td>\n",
       "      <td>1</td>\n",
       "      <td>0</td>\n",
       "      <td>1</td>\n",
       "      <td>0</td>\n",
       "      <td>0</td>\n",
       "      <td>0</td>\n",
       "      <td>0</td>\n",
       "      <td>0</td>\n",
       "      <td>1</td>\n",
       "      <td>0</td>\n",
       "    </tr>\n",
       "  </tbody>\n",
       "</table>\n",
       "<p>891 rows × 15 columns</p>\n",
       "</div>"
      ],
      "text/plain": [
       "     Pclass     Fare  Family  CabinShared  Sex_female  Embarked_Q  Embarked_S  \\\n",
       "0         3   7.2500       1            0           0           0           1   \n",
       "1         1  71.2833       1            0           1           0           0   \n",
       "2         3   7.9250       0            1           1           0           1   \n",
       "3         1  53.1000       1            0           1           0           1   \n",
       "4         3   8.0500       0            1           0           0           1   \n",
       "..      ...      ...     ...          ...         ...         ...         ...   \n",
       "886       2  13.0000       0            1           0           0           1   \n",
       "887       1  30.0000       0            0           1           0           1   \n",
       "888       3  23.4500       1            1           1           0           1   \n",
       "889       1  30.0000       0            0           0           0           0   \n",
       "890       3   7.7500       0            1           0           1           0   \n",
       "\n",
       "     AgeBand_(16.336, 32.252]  AgeBand_(32.252, 48.168]  \\\n",
       "0                           1                         0   \n",
       "1                           0                         1   \n",
       "2                           1                         0   \n",
       "3                           0                         1   \n",
       "4                           0                         1   \n",
       "..                        ...                       ...   \n",
       "886                         1                         0   \n",
       "887                         1                         0   \n",
       "888                         1                         0   \n",
       "889                         1                         0   \n",
       "890                         1                         0   \n",
       "\n",
       "     AgeBand_(48.168, 64.084]  AgeBand_(64.084, 80.0]  Title_ Master  \\\n",
       "0                           0                       0              0   \n",
       "1                           0                       0              0   \n",
       "2                           0                       0              0   \n",
       "3                           0                       0              0   \n",
       "4                           0                       0              0   \n",
       "..                        ...                     ...            ...   \n",
       "886                         0                       0              0   \n",
       "887                         0                       0              0   \n",
       "888                         0                       0              0   \n",
       "889                         0                       0              0   \n",
       "890                         0                       0              0   \n",
       "\n",
       "     Title_ Miss  Title_ Mr  Title_ Mrs  \n",
       "0              0          1           0  \n",
       "1              0          0           1  \n",
       "2              1          0           0  \n",
       "3              0          0           1  \n",
       "4              0          1           0  \n",
       "..           ...        ...         ...  \n",
       "886            0          0           0  \n",
       "887            1          0           0  \n",
       "888            1          0           0  \n",
       "889            0          1           0  \n",
       "890            0          1           0  \n",
       "\n",
       "[891 rows x 15 columns]"
      ]
     },
     "execution_count": 60,
     "metadata": {},
     "output_type": "execute_result"
    }
   ],
   "source": [
    "# One-Hot-Encoding nominal columns\n",
    "\n",
    "X = pd.get_dummies(X, columns = ['Sex', 'Embarked', 'AgeBand', 'Title'])\n",
    "X = X.drop(columns = ['Sex_male', 'Embarked_C', 'AgeBand_(0.34, 16.336]', 'Title_ Others'])\n",
    "X"
   ]
  },
  {
   "cell_type": "code",
   "execution_count": 61,
   "id": "5e85ecf9",
   "metadata": {},
   "outputs": [
    {
     "data": {
      "image/png": "[encoded data removed]",
      "text/plain": [
       "<Figure size 1600x600 with 2 Axes>"
      ]
     },
     "metadata": {},
     "output_type": "display_data"
    }
   ],
   "source": [
    "# Checking correlation between features\n",
    "\n",
    "plt.figure(figsize=(16,6))\n",
    "\n",
    "ax = sns.heatmap(X.corr(), \n",
    "                 cmap='RdBu_r',\n",
    "                 square = False)\n",
    "\n",
    "ax.set_title('Correlation matrix', \n",
    "             fontweight = 'bold', \n",
    "             fontsize = 15, \n",
    "             y = 1.1)\n",
    "\n",
    "ax = ax"
   ]
  },
  {
   "cell_type": "code",
   "execution_count": 62,
   "id": "c9f35cef",
   "metadata": {},
   "outputs": [],
   "source": [
    "# Train-test-splitting the data\n",
    "\n",
    "x_train, x_test, y_train, y_test = train_test_split(X,\n",
    "                                                    Y,\n",
    "                                                    test_size=0.3,\n",
    "                                                    random_state=123)"
   ]
  },
  {
   "cell_type": "code",
   "execution_count": 63,
   "id": "7ecae610",
   "metadata": {},
   "outputs": [],
   "source": [
    "# Feature scaling x train and test\n",
    "\n",
    "scaler = StandardScaler()\n",
    "x_train = scaler.fit_transform(x_train)\n",
    "x_test = scaler.transform(x_test)"
   ]
  },
  {
   "cell_type": "markdown",
   "id": "f4b19f7a",
   "metadata": {},
   "source": [
    "# 4. Model Building"
   ]
  },
  {
   "cell_type": "markdown",
   "id": "676d8dcc",
   "metadata": {},
   "source": [
    "6 types of Classification Algorithms will be tested initially, for baseline validation performance with 5 fold cross validation:\n",
    "\n",
    "- Logistic Regression\n",
    "- K — Nearest Neighbors\n",
    "- Support Vector Machine\n",
    "- Naive Bayes\n",
    "- Decision Tree Classifier\n",
    "- Random Forest\n",
    "\n",
    "These models will be created with the default parameters, so that later it will be possible to compute the improvement with model tuning."
   ]
  },
  {
   "cell_type": "markdown",
   "id": "7e20ba44",
   "metadata": {},
   "source": [
    "## 4.1 Logistic Regression "
   ]
  },
  {
   "cell_type": "code",
   "execution_count": 64,
   "id": "47e8b0e3",
   "metadata": {},
   "outputs": [],
   "source": [
    "# Importing libraries\n",
    "\n",
    "from sklearn.linear_model import LogisticRegression\n",
    "from sklearn.model_selection import cross_val_score"
   ]
  },
  {
   "cell_type": "code",
   "execution_count": 65,
   "id": "948b4261",
   "metadata": {},
   "outputs": [],
   "source": [
    "# Fitting the model\n",
    "\n",
    "lr_model = LogisticRegression()"
   ]
  },
  {
   "cell_type": "code",
   "execution_count": 66,
   "id": "a2931a6e",
   "metadata": {
    "scrolled": true
   },
   "outputs": [
    {
     "data": {
      "text/plain": [
       "'78.82%'"
      ]
     },
     "execution_count": 66,
     "metadata": {},
     "output_type": "execute_result"
    }
   ],
   "source": [
    "# Calculating the cross validation score\n",
    "\n",
    "cv_lr = str(round(cross_val_score(lr_model, x_train, y_train, cv=5, scoring = 'accuracy').mean()*100,2)) + '%'\n",
    "\n",
    "cv_lr"
   ]
  },
  {
   "cell_type": "markdown",
   "id": "c403a98e",
   "metadata": {},
   "source": [
    "## 4.2 K-Nearest Neighbors"
   ]
  },
  {
   "cell_type": "code",
   "execution_count": 67,
   "id": "e0d2bca9",
   "metadata": {},
   "outputs": [],
   "source": [
    "# Importing libraries\n",
    "\n",
    "from sklearn.neighbors import KNeighborsClassifier"
   ]
  },
  {
   "cell_type": "code",
   "execution_count": 68,
   "id": "1d1dba0d",
   "metadata": {},
   "outputs": [],
   "source": [
    "# Fitting the model\n",
    "\n",
    "knn_model = KNeighborsClassifier()"
   ]
  },
  {
   "cell_type": "code",
   "execution_count": 69,
   "id": "3c694e8e",
   "metadata": {
    "scrolled": true
   },
   "outputs": [
    {
     "data": {
      "text/plain": [
       "'81.54%'"
      ]
     },
     "execution_count": 69,
     "metadata": {},
     "output_type": "execute_result"
    }
   ],
   "source": [
    "# Calculating the cross validation score\n",
    "\n",
    "cv_knn = str(round(cross_val_score(knn_model, x_train, y_train, cv=5, scoring = 'accuracy').mean()*100,2)) + '%'\n",
    "\n",
    "cv_knn"
   ]
  },
  {
   "cell_type": "markdown",
   "id": "6482c5f5",
   "metadata": {},
   "source": [
    "## 4.3 Support Vector Machine"
   ]
  },
  {
   "cell_type": "code",
   "execution_count": 70,
   "id": "499001f1",
   "metadata": {},
   "outputs": [],
   "source": [
    "# Importing libraries\n",
    "\n",
    "from sklearn.svm import SVC"
   ]
  },
  {
   "cell_type": "code",
   "execution_count": 71,
   "id": "2f788356",
   "metadata": {},
   "outputs": [],
   "source": [
    "# Fitting the model\n",
    "\n",
    "svm_model = SVC()"
   ]
  },
  {
   "cell_type": "code",
   "execution_count": 72,
   "id": "d5ecf637",
   "metadata": {
    "scrolled": false
   },
   "outputs": [
    {
     "data": {
      "text/plain": [
       "'81.06%'"
      ]
     },
     "execution_count": 72,
     "metadata": {},
     "output_type": "execute_result"
    }
   ],
   "source": [
    "# Calculating the cross validation score\n",
    "\n",
    "cv_svm = str(round(cross_val_score(svm_model, x_train, y_train, cv=5, scoring = 'accuracy').mean()*100,2)) + '%'\n",
    "\n",
    "cv_svm"
   ]
  },
  {
   "cell_type": "markdown",
   "id": "32d62a1c",
   "metadata": {},
   "source": [
    "## 4.4 Naive Bayes"
   ]
  },
  {
   "cell_type": "code",
   "execution_count": 73,
   "id": "fafcc985",
   "metadata": {},
   "outputs": [],
   "source": [
    "# Importing libraries\n",
    "\n",
    "from sklearn.naive_bayes import GaussianNB"
   ]
  },
  {
   "cell_type": "code",
   "execution_count": 74,
   "id": "d8a779ea",
   "metadata": {},
   "outputs": [],
   "source": [
    "# Fitting the model\n",
    "\n",
    "nb_model = GaussianNB()"
   ]
  },
  {
   "cell_type": "code",
   "execution_count": 75,
   "id": "9acea91e",
   "metadata": {
    "scrolled": true
   },
   "outputs": [
    {
     "data": {
      "text/plain": [
       "'70.27%'"
      ]
     },
     "execution_count": 75,
     "metadata": {},
     "output_type": "execute_result"
    }
   ],
   "source": [
    "# Calculating the cross validation score\n",
    "\n",
    "cv_nb = str(round(cross_val_score(nb_model, x_train, y_train, cv=5, scoring = 'accuracy').mean()*100,2)) + '%'\n",
    "\n",
    "cv_nb"
   ]
  },
  {
   "cell_type": "markdown",
   "id": "01ae697d",
   "metadata": {},
   "source": [
    "## 4.5 Decision Tree Classifier"
   ]
  },
  {
   "cell_type": "code",
   "execution_count": 76,
   "id": "a69799ab",
   "metadata": {},
   "outputs": [],
   "source": [
    "# Importing libraries\n",
    "\n",
    "from sklearn.tree import DecisionTreeClassifier"
   ]
  },
  {
   "cell_type": "code",
   "execution_count": 77,
   "id": "d8efcd8f",
   "metadata": {},
   "outputs": [],
   "source": [
    "# Fitting the model\n",
    "\n",
    "dt_model = DecisionTreeClassifier()"
   ]
  },
  {
   "cell_type": "code",
   "execution_count": 78,
   "id": "78717e2b",
   "metadata": {
    "scrolled": false
   },
   "outputs": [
    {
     "data": {
      "text/plain": [
       "'78.18%'"
      ]
     },
     "execution_count": 78,
     "metadata": {},
     "output_type": "execute_result"
    }
   ],
   "source": [
    "# Calculating the cross validation score\n",
    "\n",
    "cv_dt = str(round(cross_val_score(dt_model, x_train, y_train, cv=5, scoring = 'accuracy').mean()*100,2)) + '%'\n",
    "\n",
    "cv_dt"
   ]
  },
  {
   "cell_type": "markdown",
   "id": "7fe1f8dd",
   "metadata": {},
   "source": [
    "## 4.6 Random Forest"
   ]
  },
  {
   "cell_type": "code",
   "execution_count": 79,
   "id": "1eeb4a9d",
   "metadata": {},
   "outputs": [],
   "source": [
    "# Importing libraries\n",
    "\n",
    "from sklearn.ensemble import RandomForestClassifier"
   ]
  },
  {
   "cell_type": "code",
   "execution_count": 80,
   "id": "f02a81a0",
   "metadata": {},
   "outputs": [],
   "source": [
    "# Fitting the model\n",
    "\n",
    "rf_model = RandomForestClassifier()"
   ]
  },
  {
   "cell_type": "code",
   "execution_count": 81,
   "id": "1688ad0e",
   "metadata": {
    "scrolled": false
   },
   "outputs": [
    {
     "data": {
      "text/plain": [
       "'78.81%'"
      ]
     },
     "execution_count": 81,
     "metadata": {},
     "output_type": "execute_result"
    }
   ],
   "source": [
    "# Calculating the cross validation score\n",
    "\n",
    "cv_rf = str(round(cross_val_score(rf_model, x_train, y_train, cv=5, scoring = 'accuracy').mean()*100,2)) + '%'\n",
    "\n",
    "cv_rf"
   ]
  },
  {
   "cell_type": "markdown",
   "id": "37ca113b",
   "metadata": {},
   "source": [
    "## 4.7 Baseline validation performance"
   ]
  },
  {
   "cell_type": "code",
   "execution_count": 82,
   "id": "87d50ea5",
   "metadata": {},
   "outputs": [
    {
     "data": {
      "text/html": [
       "<div>\n",
       "<style scoped>\n",
       "    .dataframe tbody tr th:only-of-type {\n",
       "        vertical-align: middle;\n",
       "    }\n",
       "\n",
       "    .dataframe tbody tr th {\n",
       "        vertical-align: top;\n",
       "    }\n",
       "\n",
       "    .dataframe thead th {\n",
       "        text-align: right;\n",
       "    }\n",
       "</style>\n",
       "<table border=\"1\" class=\"dataframe\">\n",
       "  <thead>\n",
       "    <tr style=\"text-align: right;\">\n",
       "      <th></th>\n",
       "      <th>Baseline Model Accuracy</th>\n",
       "    </tr>\n",
       "  </thead>\n",
       "  <tbody>\n",
       "    <tr>\n",
       "      <th>Logistic Regression</th>\n",
       "      <td>78.82%</td>\n",
       "    </tr>\n",
       "    <tr>\n",
       "      <th>K-Nearest Neighbors</th>\n",
       "      <td>81.54%</td>\n",
       "    </tr>\n",
       "    <tr>\n",
       "      <th>Support Vector Machine</th>\n",
       "      <td>81.06%</td>\n",
       "    </tr>\n",
       "    <tr>\n",
       "      <th>Naive Bayes</th>\n",
       "      <td>70.27%</td>\n",
       "    </tr>\n",
       "    <tr>\n",
       "      <th>Decision Tree</th>\n",
       "      <td>78.18%</td>\n",
       "    </tr>\n",
       "    <tr>\n",
       "      <th>Random Forest</th>\n",
       "      <td>78.81%</td>\n",
       "    </tr>\n",
       "  </tbody>\n",
       "</table>\n",
       "</div>"
      ],
      "text/plain": [
       "                       Baseline Model Accuracy\n",
       "Logistic Regression                     78.82%\n",
       "K-Nearest Neighbors                     81.54%\n",
       "Support Vector Machine                  81.06%\n",
       "Naive Bayes                             70.27%\n",
       "Decision Tree                           78.18%\n",
       "Random Forest                           78.81%"
      ]
     },
     "execution_count": 82,
     "metadata": {},
     "output_type": "execute_result"
    }
   ],
   "source": [
    "pd.DataFrame(columns = ['Baseline Model Accuracy'],\n",
    "            data = {'Baseline Model Accuracy': [cv_lr, \n",
    "                                                cv_knn, \n",
    "                                                cv_svm, \n",
    "                                                cv_nb, \n",
    "                                                cv_dt, \n",
    "                                                cv_rf]},\n",
    "            index = ['Logistic Regression', \n",
    "                     'K-Nearest Neighbors', \n",
    "                     'Support Vector Machine', \n",
    "                     'Naive Bayes', \n",
    "                     'Decision Tree', \n",
    "                     'Random Forest'])"
   ]
  },
  {
   "cell_type": "markdown",
   "id": "638f5f12",
   "metadata": {},
   "source": [
    "KNN model accuracy score was the highest among models evaluated so far."
   ]
  },
  {
   "cell_type": "markdown",
   "id": "3aff88b7",
   "metadata": {},
   "source": [
    "# 5. Model Tuning"
   ]
  },
  {
   "cell_type": "markdown",
   "id": "2d0b1881",
   "metadata": {},
   "source": [
    "Model tuning with GridSearchCV for finding the optimal hyperparameters to increase the models performance."
   ]
  },
  {
   "cell_type": "markdown",
   "id": "a16312ea",
   "metadata": {},
   "source": [
    "## 5.1 Logistic Regression"
   ]
  },
  {
   "cell_type": "code",
   "execution_count": 83,
   "id": "ccaf3a51",
   "metadata": {},
   "outputs": [],
   "source": [
    "# Importing libraries\n",
    "\n",
    "from sklearn.model_selection import GridSearchCV\n",
    "import numpy as np"
   ]
  },
  {
   "cell_type": "code",
   "execution_count": 84,
   "id": "1e5d8756",
   "metadata": {},
   "outputs": [],
   "source": [
    "# Setting param grid\n",
    "\n",
    "param_grid = {'max_iter' : [2000],\n",
    "              'C' : np.logspace(-4, 4, 20),\n",
    "              'solver' : ['lbfgs', 'liblinear', 'newton-cg', 'sag', 'saga']}"
   ]
  },
  {
   "cell_type": "code",
   "execution_count": 85,
   "id": "da47e335",
   "metadata": {},
   "outputs": [],
   "source": [
    "# Creating and fitting GridSearchCV\n",
    "\n",
    "lr_gscv = GridSearchCV(lr_model, param_grid = param_grid, cv = 5)\n",
    "best_lr = lr_gscv.fit(x_train, y_train)"
   ]
  },
  {
   "cell_type": "code",
   "execution_count": 86,
   "id": "df304b6e",
   "metadata": {
    "scrolled": true
   },
   "outputs": [
    {
     "data": {
      "text/plain": [
       "'79.78%'"
      ]
     },
     "execution_count": 86,
     "metadata": {},
     "output_type": "execute_result"
    }
   ],
   "source": [
    "# Returning accuracy score\n",
    "gscv_lr = str(round(best_lr.best_score_*100,2)) + '%'\n",
    "gscv_lr"
   ]
  },
  {
   "cell_type": "markdown",
   "id": "d6f8e0d4",
   "metadata": {},
   "source": [
    "## 5.2 K-Nearest Neighbors"
   ]
  },
  {
   "cell_type": "code",
   "execution_count": 87,
   "id": "9d0f8a3f",
   "metadata": {},
   "outputs": [],
   "source": [
    "# Setting param grid\n",
    "\n",
    "param_grid = {'n_neighbors' : [2, 5, 7, 10, 15],\n",
    "              'weights' : ['uniform', 'distance'],\n",
    "              'metric': ['euclidean', 'manhattan']}"
   ]
  },
  {
   "cell_type": "code",
   "execution_count": 88,
   "id": "fb0a7a64",
   "metadata": {},
   "outputs": [],
   "source": [
    "# Creating and fitting GridSearchCV\n",
    "\n",
    "knn_gscv = GridSearchCV(knn_model, param_grid = param_grid, cv = 5)\n",
    "best_knn = knn_gscv.fit(x_train, y_train)"
   ]
  },
  {
   "cell_type": "code",
   "execution_count": 89,
   "id": "12f25202",
   "metadata": {
    "scrolled": true
   },
   "outputs": [
    {
     "data": {
      "text/plain": [
       "'81.71%'"
      ]
     },
     "execution_count": 89,
     "metadata": {},
     "output_type": "execute_result"
    }
   ],
   "source": [
    "# Returning accuracy score\n",
    "gscv_knn = str(round(best_knn.best_score_*100,2)) + '%'\n",
    "gscv_knn"
   ]
  },
  {
   "cell_type": "markdown",
   "id": "44feef14",
   "metadata": {},
   "source": [
    "## 5.3 Support Vector Machine"
   ]
  },
  {
   "cell_type": "code",
   "execution_count": 90,
   "id": "59bf2ab9",
   "metadata": {},
   "outputs": [],
   "source": [
    "# Setting param grid\n",
    "\n",
    "param_grid = {'kernel' : ['linear', 'poly', 'rbf', 'sigmoid', ],\n",
    "              'degree' : [1, 2, 3, 4, 5]}"
   ]
  },
  {
   "cell_type": "code",
   "execution_count": 91,
   "id": "eb27b089",
   "metadata": {},
   "outputs": [],
   "source": [
    "# Creating and fitting GridSearchCV\n",
    "\n",
    "svm_gscv = GridSearchCV(svm_model, param_grid = param_grid, cv = 5)\n",
    "best_svm = svm_gscv.fit(x_train, y_train)"
   ]
  },
  {
   "cell_type": "code",
   "execution_count": 92,
   "id": "6fc1dc2a",
   "metadata": {
    "scrolled": true
   },
   "outputs": [
    {
     "data": {
      "text/plain": [
       "'81.06%'"
      ]
     },
     "execution_count": 92,
     "metadata": {},
     "output_type": "execute_result"
    }
   ],
   "source": [
    "# Returning accuracy score\n",
    "gscv_svm = str(round(best_svm.best_score_*100,2)) + '%'\n",
    "gscv_svm"
   ]
  },
  {
   "cell_type": "markdown",
   "id": "0184b62b",
   "metadata": {},
   "source": [
    "## 5.4 Naive Bayes"
   ]
  },
  {
   "cell_type": "code",
   "execution_count": 93,
   "id": "a43a02b9",
   "metadata": {},
   "outputs": [],
   "source": [
    "# Setting param grid\n",
    "\n",
    "param_grid = {'var_smoothing': np.logspace(0,-9, num=100)}"
   ]
  },
  {
   "cell_type": "code",
   "execution_count": 94,
   "id": "7eea4996",
   "metadata": {},
   "outputs": [],
   "source": [
    "# Creating and fitting GridSearchCV\n",
    "\n",
    "nb_gscv = GridSearchCV(nb_model, param_grid = param_grid, cv = 5)\n",
    "best_nb = nb_gscv.fit(x_train, y_train)"
   ]
  },
  {
   "cell_type": "code",
   "execution_count": 95,
   "id": "f318990f",
   "metadata": {
    "scrolled": false
   },
   "outputs": [
    {
     "data": {
      "text/plain": [
       "'78.82%'"
      ]
     },
     "execution_count": 95,
     "metadata": {},
     "output_type": "execute_result"
    }
   ],
   "source": [
    "# Returning accuracy score\n",
    "gscv_nb = str(round(best_nb.best_score_*100,2)) + '%'\n",
    "gscv_nb"
   ]
  },
  {
   "cell_type": "markdown",
   "id": "6416b28c",
   "metadata": {},
   "source": [
    "## 5.5 Decision Tree Classifier"
   ]
  },
  {
   "cell_type": "code",
   "execution_count": 96,
   "id": "95c3e924",
   "metadata": {},
   "outputs": [],
   "source": [
    "# Setting param grid\n",
    "\n",
    "param_grid = {'criterion': ['gini', 'entropy'],\n",
    "              'splitter': ['best', 'random'],\n",
    "              'max_depth': [2, 4, 6, 8, 10, 12],\n",
    "              'max_features': ['auto', 'sqrt', 'log2']}"
   ]
  },
  {
   "cell_type": "code",
   "execution_count": 97,
   "id": "d27e58b9",
   "metadata": {},
   "outputs": [],
   "source": [
    "# Creating and fitting GridSearchCV\n",
    "\n",
    "dt_gscv = GridSearchCV(dt_model, param_grid = param_grid, cv = 5)\n",
    "best_dt = dt_gscv.fit(x_train, y_train)"
   ]
  },
  {
   "cell_type": "code",
   "execution_count": 98,
   "id": "1cd3623b",
   "metadata": {
    "scrolled": true
   },
   "outputs": [
    {
     "data": {
      "text/plain": [
       "'81.22%'"
      ]
     },
     "execution_count": 98,
     "metadata": {},
     "output_type": "execute_result"
    }
   ],
   "source": [
    "# Returning accuracy score\n",
    "gscv_dt = str(round(best_dt.best_score_*100,2)) + '%'\n",
    "gscv_dt"
   ]
  },
  {
   "cell_type": "markdown",
   "id": "dccf48bd",
   "metadata": {},
   "source": [
    "## 5.6 Random Forest"
   ]
  },
  {
   "cell_type": "code",
   "execution_count": 99,
   "id": "28f0a6c4",
   "metadata": {},
   "outputs": [],
   "source": [
    "# Setting param grid\n",
    "\n",
    "param_grid = {'criterion': ['gini', 'entropy'],\n",
    "              'max_depth': [2, 4, 6, 8, 10, 12],\n",
    "              'max_features': ['auto', 'sqrt', 'log2']}"
   ]
  },
  {
   "cell_type": "code",
   "execution_count": 100,
   "id": "8fc8c402",
   "metadata": {},
   "outputs": [],
   "source": [
    "# Creating and fitting GridSearchCV\n",
    "\n",
    "rf_gscv = GridSearchCV(rf_model, param_grid = param_grid, cv = 5)\n",
    "best_rf = rf_gscv.fit(x_train, y_train)"
   ]
  },
  {
   "cell_type": "code",
   "execution_count": 101,
   "id": "908bb64f",
   "metadata": {
    "scrolled": true
   },
   "outputs": [
    {
     "data": {
      "text/plain": [
       "'82.99%'"
      ]
     },
     "execution_count": 101,
     "metadata": {},
     "output_type": "execute_result"
    }
   ],
   "source": [
    "# Returning accuracy score\n",
    "gscv_rf = str(round(best_rf.best_score_*100,2)) + '%'\n",
    "gscv_rf"
   ]
  },
  {
   "cell_type": "markdown",
   "id": "3f52a52e",
   "metadata": {},
   "source": [
    "## 5.7 Model tuned performance"
   ]
  },
  {
   "cell_type": "code",
   "execution_count": 102,
   "id": "c819374e",
   "metadata": {},
   "outputs": [
    {
     "data": {
      "text/html": [
       "<div>\n",
       "<style scoped>\n",
       "    .dataframe tbody tr th:only-of-type {\n",
       "        vertical-align: middle;\n",
       "    }\n",
       "\n",
       "    .dataframe tbody tr th {\n",
       "        vertical-align: top;\n",
       "    }\n",
       "\n",
       "    .dataframe thead th {\n",
       "        text-align: right;\n",
       "    }\n",
       "</style>\n",
       "<table border=\"1\" class=\"dataframe\">\n",
       "  <thead>\n",
       "    <tr style=\"text-align: right;\">\n",
       "      <th></th>\n",
       "      <th>Baseline Model Accuracy</th>\n",
       "      <th>Model Tuned Accuracy</th>\n",
       "    </tr>\n",
       "  </thead>\n",
       "  <tbody>\n",
       "    <tr>\n",
       "      <th>Logistic Regression</th>\n",
       "      <td>78.82%</td>\n",
       "      <td>79.78%</td>\n",
       "    </tr>\n",
       "    <tr>\n",
       "      <th>K-Nearest Neighbors</th>\n",
       "      <td>81.54%</td>\n",
       "      <td>81.71%</td>\n",
       "    </tr>\n",
       "    <tr>\n",
       "      <th>Support Vector Machine</th>\n",
       "      <td>81.06%</td>\n",
       "      <td>81.06%</td>\n",
       "    </tr>\n",
       "    <tr>\n",
       "      <th>Naive Bayes</th>\n",
       "      <td>70.27%</td>\n",
       "      <td>78.82%</td>\n",
       "    </tr>\n",
       "    <tr>\n",
       "      <th>Decision Tree</th>\n",
       "      <td>78.18%</td>\n",
       "      <td>81.22%</td>\n",
       "    </tr>\n",
       "    <tr>\n",
       "      <th>Random Forest</th>\n",
       "      <td>78.81%</td>\n",
       "      <td>78.81%</td>\n",
       "    </tr>\n",
       "  </tbody>\n",
       "</table>\n",
       "</div>"
      ],
      "text/plain": [
       "                       Baseline Model Accuracy Model Tuned Accuracy\n",
       "Logistic Regression                     78.82%               79.78%\n",
       "K-Nearest Neighbors                     81.54%               81.71%\n",
       "Support Vector Machine                  81.06%               81.06%\n",
       "Naive Bayes                             70.27%               78.82%\n",
       "Decision Tree                           78.18%               81.22%\n",
       "Random Forest                           78.81%               78.81%"
      ]
     },
     "execution_count": 102,
     "metadata": {},
     "output_type": "execute_result"
    }
   ],
   "source": [
    "pd.DataFrame(columns = ['Baseline Model Accuracy', \n",
    "                        'Model Tuned Accuracy'],\n",
    "            data = {'Baseline Model Accuracy': [cv_lr, \n",
    "                                                cv_knn, \n",
    "                                                cv_svm, \n",
    "                                                cv_nb, \n",
    "                                                cv_dt, \n",
    "                                                cv_rf],\n",
    "                    'Model Tuned Accuracy': [gscv_lr, \n",
    "                                             gscv_knn, \n",
    "                                             gscv_svm, \n",
    "                                             gscv_nb, \n",
    "                                             gscv_dt, \n",
    "                                             cv_rf]},\n",
    "            index = ['Logistic Regression', \n",
    "                     'K-Nearest Neighbors', \n",
    "                     'Support Vector Machine', \n",
    "                     'Naive Bayes', \n",
    "                     'Decision Tree', \n",
    "                     'Random Forest'])"
   ]
  },
  {
   "cell_type": "markdown",
   "id": "eb13b2e7",
   "metadata": {},
   "source": [
    "After model tuning, all models demonstrated improved results, except for the SVM model which maintained its original accuracy."
   ]
  },
  {
   "cell_type": "markdown",
   "id": "bd344e19",
   "metadata": {},
   "source": [
    "# 6. Model Evaluation"
   ]
  },
  {
   "cell_type": "markdown",
   "id": "429a22fe",
   "metadata": {},
   "source": [
    "Since a better validation performance does not necessarily imply a better performance in predicting the test data set, in this step a final model evaluation will be performed with the test data set, using the tuned models."
   ]
  },
  {
   "cell_type": "code",
   "execution_count": 103,
   "id": "34b57a26",
   "metadata": {},
   "outputs": [
    {
     "data": {
      "text/html": [
       "<div>\n",
       "<style scoped>\n",
       "    .dataframe tbody tr th:only-of-type {\n",
       "        vertical-align: middle;\n",
       "    }\n",
       "\n",
       "    .dataframe tbody tr th {\n",
       "        vertical-align: top;\n",
       "    }\n",
       "\n",
       "    .dataframe thead th {\n",
       "        text-align: right;\n",
       "    }\n",
       "</style>\n",
       "<table border=\"1\" class=\"dataframe\">\n",
       "  <thead>\n",
       "    <tr style=\"text-align: right;\">\n",
       "      <th></th>\n",
       "      <th>Model Accuracy for the testing set</th>\n",
       "    </tr>\n",
       "  </thead>\n",
       "  <tbody>\n",
       "    <tr>\n",
       "      <th>Logistic Regression</th>\n",
       "      <td>80.6%</td>\n",
       "    </tr>\n",
       "    <tr>\n",
       "      <th>K-Nearest Neighbors</th>\n",
       "      <td>82.09%</td>\n",
       "    </tr>\n",
       "    <tr>\n",
       "      <th>Support Vector Machine</th>\n",
       "      <td>83.21%</td>\n",
       "    </tr>\n",
       "    <tr>\n",
       "      <th>Naive Bayes</th>\n",
       "      <td>79.85%</td>\n",
       "    </tr>\n",
       "    <tr>\n",
       "      <th>Decision Tree</th>\n",
       "      <td>80.22%</td>\n",
       "    </tr>\n",
       "    <tr>\n",
       "      <th>Random Forest</th>\n",
       "      <td>83.58%</td>\n",
       "    </tr>\n",
       "  </tbody>\n",
       "</table>\n",
       "</div>"
      ],
      "text/plain": [
       "                       Model Accuracy for the testing set\n",
       "Logistic Regression                                 80.6%\n",
       "K-Nearest Neighbors                                82.09%\n",
       "Support Vector Machine                             83.21%\n",
       "Naive Bayes                                        79.85%\n",
       "Decision Tree                                      80.22%\n",
       "Random Forest                                      83.58%"
      ]
     },
     "execution_count": 103,
     "metadata": {},
     "output_type": "execute_result"
    }
   ],
   "source": [
    "pd.DataFrame(columns = ['Model Accuracy for the testing set'],\n",
    "            data = {'Model Accuracy for the testing set': [str(round(best_lr.score(x_test, y_test)*100,2)) + '%', \n",
    "                                                           str(round(best_knn.score(x_test, y_test)*100,2)) + '%',\n",
    "                                                           str(round(best_svm.score(x_test, y_test)*100,2)) + '%',\n",
    "                                                           str(round(best_nb.score(x_test, y_test)*100,2)) + '%',\n",
    "                                                           str(round(best_dt.score(x_test, y_test)*100,2)) + '%', \n",
    "                                                           str(round(best_rf.score(x_test, y_test)*100,2)) + '%']},\n",
    "            index = ['Logistic Regression', \n",
    "                     'K-Nearest Neighbors', \n",
    "                     'Support Vector Machine', \n",
    "                     'Naive Bayes', \n",
    "                     'Decision Tree', \n",
    "                     'Random Forest'])\n"
   ]
  },
  {
   "cell_type": "markdown",
   "id": "be5d0bb6",
   "metadata": {},
   "source": [
    "**Random Forest** model accuracy score was the highest among models for the testing set."
   ]
  },
  {
   "cell_type": "markdown",
   "id": "d9cfb561",
   "metadata": {},
   "source": [
    "# 7. Model Results"
   ]
  },
  {
   "cell_type": "code",
   "execution_count": 104,
   "id": "f4e18394",
   "metadata": {},
   "outputs": [],
   "source": [
    "# Importing libraries\n",
    "\n",
    "from sklearn.metrics import confusion_matrix\n",
    "from sklearn.metrics import roc_curve\n",
    "from sklearn.metrics import auc\n"
   ]
  },
  {
   "cell_type": "code",
   "execution_count": 105,
   "id": "479ba776",
   "metadata": {},
   "outputs": [
    {
     "data": {
      "image/png": "[encoded data removed]",
      "text/plain": [
       "<Figure size 400x400 with 2 Axes>"
      ]
     },
     "metadata": {},
     "output_type": "display_data"
    }
   ],
   "source": [
    "# Viewing confusion matrix\n",
    "\n",
    "y_pred = best_rf.predict(x_test)\n",
    "cf_matrix = confusion_matrix(y_test, y_pred)\n",
    "\n",
    "plt.figure(figsize=(4,4))\n",
    "\n",
    "ax = sns.heatmap(cf_matrix, \n",
    "                 cmap='Blues',\n",
    "                 square = True,\n",
    "                 annot = True,\n",
    "                 fmt='g')\n",
    "\n",
    "ax.set_title('Confusion matrix', \n",
    "             fontweight = 'bold', \n",
    "             fontsize = 15, \n",
    "             y = 1.1)\n",
    "\n",
    "ax = ax"
   ]
  },
  {
   "cell_type": "code",
   "execution_count": 106,
   "id": "fceaa8ef",
   "metadata": {},
   "outputs": [
    {
     "data": {
      "image/png": "[encoded data removed]",
      "text/plain": [
       "<Figure size 400x400 with 1 Axes>"
      ]
     },
     "metadata": {},
     "output_type": "display_data"
    }
   ],
   "source": [
    "# Viewing ROC curve\n",
    "\n",
    "y_prob = best_rf.predict_proba(x_test)[:,1]\n",
    "fpr, tpr, threshold = roc_curve(y_test, y_prob)\n",
    "roc_auc = auc(fpr, tpr)\n",
    "\n",
    "plt.figure(figsize=(4,4))\n",
    "\n",
    "ax = sns.lineplot(x = fpr,\n",
    "                  y = tpr,\n",
    "                 color = 'royalblue',\n",
    "                 label = 'AUC = ' + str(roc_auc))\n",
    "\n",
    "ax = sns.lineplot(x = [0, 1],\n",
    "                  y = [0, 1],\n",
    "                  linestyle='--',\n",
    "                  color = 'red',\n",
    "                  label = 'Random Guessing')\n",
    "\n",
    "ax.set_title('ROC Curve', \n",
    "             fontweight = 'bold', \n",
    "             fontsize = 15, \n",
    "             y = 1.1)\n",
    "\n",
    "ax.set_xlabel('False Positive Rate')\n",
    "\n",
    "ax.set_ylabel('True Positive Rate')\n",
    "\n",
    "ax = ax"
   ]
  },
  {
   "cell_type": "code",
   "execution_count": 107,
   "id": "7cb001e4",
   "metadata": {
    "scrolled": true
   },
   "outputs": [
    {
     "data": {
      "image/png": "[encoded data removed]",
      "text/plain": [
       "<Figure size 1600x500 with 1 Axes>"
      ]
     },
     "metadata": {},
     "output_type": "display_data"
    }
   ],
   "source": [
    "# Viewing Feature Importance\n",
    "\n",
    "feat_importance = pd.DataFrame(columns = ['Feature', 'Feature Importance'],\n",
    "                               data = {'Feature': X.columns,\n",
    "                                       'Feature Importance': best_rf.best_estimator_.feature_importances_}).sort_values('Feature Importance', ascending = True)\n",
    "\n",
    "sns.set_style('darkgrid')\n",
    "\n",
    "plt.figure(figsize=(16,5))\n",
    "\n",
    "ax = sns.barplot(x = 'Feature Importance',\n",
    "                 y = 'Feature',\n",
    "                 data = feat_importance,\n",
    "                 color = 'royalblue',\n",
    "                 orient = 'h')\n",
    "\n",
    "ax.set_title('Feature Importance', \n",
    "             fontweight = 'bold', \n",
    "             fontsize = 20, \n",
    "             y = 1.1)\n",
    "\n",
    "ax = ax"
   ]
  }
 ],
 "metadata": {
  "kernelspec": {
   "display_name": "Python 3 (ipykernel)",
   "language": "python",
   "name": "python3"
  },
  "language_info": {
   "codemirror_mode": {
    "name": "ipython",
    "version": 3
   },
   "file_extension": ".py",
   "mimetype": "text/x-python",
   "name": "python",
   "nbconvert_exporter": "python",
   "pygments_lexer": "ipython3",
   "version": "3.9.13"
  }
 },
 "nbformat": 4,
 "nbformat_minor": 5
}
